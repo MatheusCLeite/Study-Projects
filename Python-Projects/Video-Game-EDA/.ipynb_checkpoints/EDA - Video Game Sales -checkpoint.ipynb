{
 "cells": [
  {
   "cell_type": "code",
   "execution_count": 294,
   "id": "b57e4b3e",
   "metadata": {},
   "outputs": [],
   "source": [
    "import pandocfilters\n",
    "import pandas as pd \n",
    "import numpy as np\n",
    "import seaborn as sns\n",
    "import matplotlib.pyplot as plt\n",
    "from datetime import datetime"
   ]
  },
  {
   "cell_type": "code",
   "execution_count": 2,
   "id": "b440b6cd",
   "metadata": {},
   "outputs": [
    {
     "name": "stdout",
     "output_type": "stream",
     "text": [
      "Author: Matheus\n",
      "\n",
      "numpy     : 1.24.3\n",
      "pandas    : 2.0.3\n",
      "matplotlib: 3.7.2\n",
      "seaborn   : 0.12.2\n",
      "\n"
     ]
    }
   ],
   "source": [
    "%reload_ext watermark\n",
    "%watermark -a \"Matheus\" --iversions\n"
   ]
  },
  {
   "cell_type": "code",
   "execution_count": 3,
   "id": "bc22aefb",
   "metadata": {},
   "outputs": [],
   "source": [
    "#Loading data \n",
    "\n",
    "df = pd.read_csv('data/vgsales.csv')"
   ]
  },
  {
   "cell_type": "code",
   "execution_count": 4,
   "id": "310b216f",
   "metadata": {},
   "outputs": [
    {
     "data": {
      "text/html": [
       "<div>\n",
       "<style scoped>\n",
       "    .dataframe tbody tr th:only-of-type {\n",
       "        vertical-align: middle;\n",
       "    }\n",
       "\n",
       "    .dataframe tbody tr th {\n",
       "        vertical-align: top;\n",
       "    }\n",
       "\n",
       "    .dataframe thead th {\n",
       "        text-align: right;\n",
       "    }\n",
       "</style>\n",
       "<table border=\"1\" class=\"dataframe\">\n",
       "  <thead>\n",
       "    <tr style=\"text-align: right;\">\n",
       "      <th></th>\n",
       "      <th>Rank</th>\n",
       "      <th>Name</th>\n",
       "      <th>Platform</th>\n",
       "      <th>Year</th>\n",
       "      <th>Genre</th>\n",
       "      <th>Publisher</th>\n",
       "      <th>NA_Sales</th>\n",
       "      <th>EU_Sales</th>\n",
       "      <th>JP_Sales</th>\n",
       "      <th>Other_Sales</th>\n",
       "      <th>Global_Sales</th>\n",
       "    </tr>\n",
       "  </thead>\n",
       "  <tbody>\n",
       "    <tr>\n",
       "      <th>0</th>\n",
       "      <td>1</td>\n",
       "      <td>Wii Sports</td>\n",
       "      <td>Wii</td>\n",
       "      <td>2006.0</td>\n",
       "      <td>Sports</td>\n",
       "      <td>Nintendo</td>\n",
       "      <td>41.49</td>\n",
       "      <td>29.02</td>\n",
       "      <td>3.77</td>\n",
       "      <td>8.46</td>\n",
       "      <td>82.74</td>\n",
       "    </tr>\n",
       "    <tr>\n",
       "      <th>1</th>\n",
       "      <td>2</td>\n",
       "      <td>Super Mario Bros.</td>\n",
       "      <td>NES</td>\n",
       "      <td>1985.0</td>\n",
       "      <td>Platform</td>\n",
       "      <td>Nintendo</td>\n",
       "      <td>29.08</td>\n",
       "      <td>3.58</td>\n",
       "      <td>6.81</td>\n",
       "      <td>0.77</td>\n",
       "      <td>40.24</td>\n",
       "    </tr>\n",
       "    <tr>\n",
       "      <th>2</th>\n",
       "      <td>3</td>\n",
       "      <td>Mario Kart Wii</td>\n",
       "      <td>Wii</td>\n",
       "      <td>2008.0</td>\n",
       "      <td>Racing</td>\n",
       "      <td>Nintendo</td>\n",
       "      <td>15.85</td>\n",
       "      <td>12.88</td>\n",
       "      <td>3.79</td>\n",
       "      <td>3.31</td>\n",
       "      <td>35.82</td>\n",
       "    </tr>\n",
       "    <tr>\n",
       "      <th>3</th>\n",
       "      <td>4</td>\n",
       "      <td>Wii Sports Resort</td>\n",
       "      <td>Wii</td>\n",
       "      <td>2009.0</td>\n",
       "      <td>Sports</td>\n",
       "      <td>Nintendo</td>\n",
       "      <td>15.75</td>\n",
       "      <td>11.01</td>\n",
       "      <td>3.28</td>\n",
       "      <td>2.96</td>\n",
       "      <td>33.00</td>\n",
       "    </tr>\n",
       "    <tr>\n",
       "      <th>4</th>\n",
       "      <td>5</td>\n",
       "      <td>Pokemon Red/Pokemon Blue</td>\n",
       "      <td>GB</td>\n",
       "      <td>1996.0</td>\n",
       "      <td>Role-Playing</td>\n",
       "      <td>Nintendo</td>\n",
       "      <td>11.27</td>\n",
       "      <td>8.89</td>\n",
       "      <td>10.22</td>\n",
       "      <td>1.00</td>\n",
       "      <td>31.37</td>\n",
       "    </tr>\n",
       "  </tbody>\n",
       "</table>\n",
       "</div>"
      ],
      "text/plain": [
       "   Rank                      Name Platform    Year         Genre Publisher  \\\n",
       "0     1                Wii Sports      Wii  2006.0        Sports  Nintendo   \n",
       "1     2         Super Mario Bros.      NES  1985.0      Platform  Nintendo   \n",
       "2     3            Mario Kart Wii      Wii  2008.0        Racing  Nintendo   \n",
       "3     4         Wii Sports Resort      Wii  2009.0        Sports  Nintendo   \n",
       "4     5  Pokemon Red/Pokemon Blue       GB  1996.0  Role-Playing  Nintendo   \n",
       "\n",
       "   NA_Sales  EU_Sales  JP_Sales  Other_Sales  Global_Sales  \n",
       "0     41.49     29.02      3.77         8.46         82.74  \n",
       "1     29.08      3.58      6.81         0.77         40.24  \n",
       "2     15.85     12.88      3.79         3.31         35.82  \n",
       "3     15.75     11.01      3.28         2.96         33.00  \n",
       "4     11.27      8.89     10.22         1.00         31.37  "
      ]
     },
     "execution_count": 4,
     "metadata": {},
     "output_type": "execute_result"
    }
   ],
   "source": [
    "df.head()"
   ]
  },
  {
   "cell_type": "code",
   "execution_count": 5,
   "id": "ac205e13",
   "metadata": {},
   "outputs": [
    {
     "data": {
      "text/plain": [
       "(16598, 11)"
      ]
     },
     "execution_count": 5,
     "metadata": {},
     "output_type": "execute_result"
    }
   ],
   "source": [
    "df.shape"
   ]
  },
  {
   "cell_type": "code",
   "execution_count": 6,
   "id": "6e0b393b",
   "metadata": {},
   "outputs": [
    {
     "name": "stdout",
     "output_type": "stream",
     "text": [
      "<class 'pandas.core.frame.DataFrame'>\n",
      "RangeIndex: 16598 entries, 0 to 16597\n",
      "Data columns (total 11 columns):\n",
      " #   Column        Non-Null Count  Dtype  \n",
      "---  ------        --------------  -----  \n",
      " 0   Rank          16598 non-null  int64  \n",
      " 1   Name          16598 non-null  object \n",
      " 2   Platform      16598 non-null  object \n",
      " 3   Year          16327 non-null  float64\n",
      " 4   Genre         16598 non-null  object \n",
      " 5   Publisher     16540 non-null  object \n",
      " 6   NA_Sales      16598 non-null  float64\n",
      " 7   EU_Sales      16598 non-null  float64\n",
      " 8   JP_Sales      16598 non-null  float64\n",
      " 9   Other_Sales   16598 non-null  float64\n",
      " 10  Global_Sales  16598 non-null  float64\n",
      "dtypes: float64(6), int64(1), object(4)\n",
      "memory usage: 1.4+ MB\n"
     ]
    }
   ],
   "source": [
    "df.info()"
   ]
  },
  {
   "cell_type": "code",
   "execution_count": 7,
   "id": "33c54f2f",
   "metadata": {
    "scrolled": true
   },
   "outputs": [
    {
     "data": {
      "text/plain": [
       "Rank              0\n",
       "Name              0\n",
       "Platform          0\n",
       "Year            271\n",
       "Genre             0\n",
       "Publisher        58\n",
       "NA_Sales          0\n",
       "EU_Sales          0\n",
       "JP_Sales          0\n",
       "Other_Sales       0\n",
       "Global_Sales      0\n",
       "dtype: int64"
      ]
     },
     "execution_count": 7,
     "metadata": {},
     "output_type": "execute_result"
    }
   ],
   "source": [
    "df.isnull().sum()"
   ]
  },
  {
   "cell_type": "code",
   "execution_count": 190,
   "id": "8d1270c5",
   "metadata": {},
   "outputs": [
    {
     "data": {
      "text/html": [
       "<div>\n",
       "<style scoped>\n",
       "    .dataframe tbody tr th:only-of-type {\n",
       "        vertical-align: middle;\n",
       "    }\n",
       "\n",
       "    .dataframe tbody tr th {\n",
       "        vertical-align: top;\n",
       "    }\n",
       "\n",
       "    .dataframe thead th {\n",
       "        text-align: right;\n",
       "    }\n",
       "</style>\n",
       "<table border=\"1\" class=\"dataframe\">\n",
       "  <thead>\n",
       "    <tr style=\"text-align: right;\">\n",
       "      <th></th>\n",
       "      <th>Rank</th>\n",
       "      <th>Year</th>\n",
       "      <th>NA_Sales</th>\n",
       "      <th>EU_Sales</th>\n",
       "      <th>JP_Sales</th>\n",
       "      <th>Other_Sales</th>\n",
       "      <th>Global_Sales</th>\n",
       "    </tr>\n",
       "  </thead>\n",
       "  <tbody>\n",
       "    <tr>\n",
       "      <th>count</th>\n",
       "      <td>16598.000000</td>\n",
       "      <td>16598.000000</td>\n",
       "      <td>16598.000000</td>\n",
       "      <td>16598.000000</td>\n",
       "      <td>16598.000000</td>\n",
       "      <td>16598.000000</td>\n",
       "      <td>16598.000000</td>\n",
       "    </tr>\n",
       "    <tr>\n",
       "      <th>mean</th>\n",
       "      <td>8300.605254</td>\n",
       "      <td>1973.647307</td>\n",
       "      <td>0.264667</td>\n",
       "      <td>0.146652</td>\n",
       "      <td>0.077782</td>\n",
       "      <td>0.048063</td>\n",
       "      <td>0.537441</td>\n",
       "    </tr>\n",
       "    <tr>\n",
       "      <th>std</th>\n",
       "      <td>4791.853933</td>\n",
       "      <td>254.346809</td>\n",
       "      <td>0.816683</td>\n",
       "      <td>0.505351</td>\n",
       "      <td>0.309291</td>\n",
       "      <td>0.188588</td>\n",
       "      <td>1.555028</td>\n",
       "    </tr>\n",
       "    <tr>\n",
       "      <th>min</th>\n",
       "      <td>1.000000</td>\n",
       "      <td>0.000000</td>\n",
       "      <td>0.000000</td>\n",
       "      <td>0.000000</td>\n",
       "      <td>0.000000</td>\n",
       "      <td>0.000000</td>\n",
       "      <td>0.010000</td>\n",
       "    </tr>\n",
       "    <tr>\n",
       "      <th>25%</th>\n",
       "      <td>4151.250000</td>\n",
       "      <td>2003.000000</td>\n",
       "      <td>0.000000</td>\n",
       "      <td>0.000000</td>\n",
       "      <td>0.000000</td>\n",
       "      <td>0.000000</td>\n",
       "      <td>0.060000</td>\n",
       "    </tr>\n",
       "    <tr>\n",
       "      <th>50%</th>\n",
       "      <td>8300.500000</td>\n",
       "      <td>2007.000000</td>\n",
       "      <td>0.080000</td>\n",
       "      <td>0.020000</td>\n",
       "      <td>0.000000</td>\n",
       "      <td>0.010000</td>\n",
       "      <td>0.170000</td>\n",
       "    </tr>\n",
       "    <tr>\n",
       "      <th>75%</th>\n",
       "      <td>12449.750000</td>\n",
       "      <td>2010.000000</td>\n",
       "      <td>0.240000</td>\n",
       "      <td>0.110000</td>\n",
       "      <td>0.040000</td>\n",
       "      <td>0.040000</td>\n",
       "      <td>0.470000</td>\n",
       "    </tr>\n",
       "    <tr>\n",
       "      <th>max</th>\n",
       "      <td>16600.000000</td>\n",
       "      <td>2020.000000</td>\n",
       "      <td>41.490000</td>\n",
       "      <td>29.020000</td>\n",
       "      <td>10.220000</td>\n",
       "      <td>10.570000</td>\n",
       "      <td>82.740000</td>\n",
       "    </tr>\n",
       "  </tbody>\n",
       "</table>\n",
       "</div>"
      ],
      "text/plain": [
       "               Rank          Year      NA_Sales      EU_Sales      JP_Sales  \\\n",
       "count  16598.000000  16598.000000  16598.000000  16598.000000  16598.000000   \n",
       "mean    8300.605254   1973.647307      0.264667      0.146652      0.077782   \n",
       "std     4791.853933    254.346809      0.816683      0.505351      0.309291   \n",
       "min        1.000000      0.000000      0.000000      0.000000      0.000000   \n",
       "25%     4151.250000   2003.000000      0.000000      0.000000      0.000000   \n",
       "50%     8300.500000   2007.000000      0.080000      0.020000      0.000000   \n",
       "75%    12449.750000   2010.000000      0.240000      0.110000      0.040000   \n",
       "max    16600.000000   2020.000000     41.490000     29.020000     10.220000   \n",
       "\n",
       "        Other_Sales  Global_Sales  \n",
       "count  16598.000000  16598.000000  \n",
       "mean       0.048063      0.537441  \n",
       "std        0.188588      1.555028  \n",
       "min        0.000000      0.010000  \n",
       "25%        0.000000      0.060000  \n",
       "50%        0.010000      0.170000  \n",
       "75%        0.040000      0.470000  \n",
       "max       10.570000     82.740000  "
      ]
     },
     "execution_count": 190,
     "metadata": {},
     "output_type": "execute_result"
    }
   ],
   "source": [
    "df.describe()"
   ]
  },
  {
   "cell_type": "markdown",
   "id": "528efe25",
   "metadata": {},
   "source": [
    "# EDA "
   ]
  },
  {
   "cell_type": "markdown",
   "id": "c74fcfcc",
   "metadata": {},
   "source": [
    "## Separating Categorical and Numerical Variables "
   ]
  },
  {
   "cell_type": "code",
   "execution_count": 9,
   "id": "293da339",
   "metadata": {},
   "outputs": [],
   "source": [
    "cats = ['Rank','Name','Platform','Publisher', 'Year','Genre']"
   ]
  },
  {
   "cell_type": "code",
   "execution_count": 10,
   "id": "92c533c2",
   "metadata": {},
   "outputs": [],
   "source": [
    "nums = ['Global_Sales', 'NA_Sales', 'EU_Sales', 'JP_Sales', 'Other_Sales']"
   ]
  },
  {
   "cell_type": "code",
   "execution_count": 11,
   "id": "748d2a71",
   "metadata": {},
   "outputs": [
    {
     "data": {
      "text/plain": [
       "Index(['Rank', 'Name', 'Platform', 'Year', 'Genre', 'Publisher', 'NA_Sales',\n",
       "       'EU_Sales', 'JP_Sales', 'Other_Sales', 'Global_Sales'],\n",
       "      dtype='object')"
      ]
     },
     "execution_count": 11,
     "metadata": {},
     "output_type": "execute_result"
    }
   ],
   "source": [
    "df.columns"
   ]
  },
  {
   "cell_type": "code",
   "execution_count": 12,
   "id": "4e7d6f35",
   "metadata": {},
   "outputs": [
    {
     "data": {
      "text/html": [
       "<div>\n",
       "<style scoped>\n",
       "    .dataframe tbody tr th:only-of-type {\n",
       "        vertical-align: middle;\n",
       "    }\n",
       "\n",
       "    .dataframe tbody tr th {\n",
       "        vertical-align: top;\n",
       "    }\n",
       "\n",
       "    .dataframe thead th {\n",
       "        text-align: right;\n",
       "    }\n",
       "</style>\n",
       "<table border=\"1\" class=\"dataframe\">\n",
       "  <thead>\n",
       "    <tr style=\"text-align: right;\">\n",
       "      <th></th>\n",
       "      <th>Rank</th>\n",
       "      <th>Name</th>\n",
       "      <th>Platform</th>\n",
       "      <th>Publisher</th>\n",
       "      <th>Year</th>\n",
       "      <th>Genre</th>\n",
       "    </tr>\n",
       "  </thead>\n",
       "  <tbody>\n",
       "    <tr>\n",
       "      <th>count</th>\n",
       "      <td>16598</td>\n",
       "      <td>16598</td>\n",
       "      <td>16598</td>\n",
       "      <td>16540</td>\n",
       "      <td>16327.0</td>\n",
       "      <td>16598</td>\n",
       "    </tr>\n",
       "    <tr>\n",
       "      <th>unique</th>\n",
       "      <td>16598</td>\n",
       "      <td>11493</td>\n",
       "      <td>31</td>\n",
       "      <td>578</td>\n",
       "      <td>39.0</td>\n",
       "      <td>12</td>\n",
       "    </tr>\n",
       "    <tr>\n",
       "      <th>top</th>\n",
       "      <td>1</td>\n",
       "      <td>Need for Speed: Most Wanted</td>\n",
       "      <td>DS</td>\n",
       "      <td>Electronic Arts</td>\n",
       "      <td>2009.0</td>\n",
       "      <td>Action</td>\n",
       "    </tr>\n",
       "    <tr>\n",
       "      <th>freq</th>\n",
       "      <td>1</td>\n",
       "      <td>12</td>\n",
       "      <td>2163</td>\n",
       "      <td>1351</td>\n",
       "      <td>1431.0</td>\n",
       "      <td>3316</td>\n",
       "    </tr>\n",
       "  </tbody>\n",
       "</table>\n",
       "</div>"
      ],
      "text/plain": [
       "         Rank                         Name Platform        Publisher     Year  \\\n",
       "count   16598                        16598    16598            16540  16327.0   \n",
       "unique  16598                        11493       31              578     39.0   \n",
       "top         1  Need for Speed: Most Wanted       DS  Electronic Arts   2009.0   \n",
       "freq        1                           12     2163             1351   1431.0   \n",
       "\n",
       "         Genre  \n",
       "count    16598  \n",
       "unique      12  \n",
       "top     Action  \n",
       "freq      3316  "
      ]
     },
     "execution_count": 12,
     "metadata": {},
     "output_type": "execute_result"
    }
   ],
   "source": [
    "df[cats].astype(object).describe()"
   ]
  },
  {
   "cell_type": "code",
   "execution_count": 13,
   "id": "8d1cb25b",
   "metadata": {},
   "outputs": [
    {
     "data": {
      "text/plain": [
       "Year\n",
       "2009.0    1431\n",
       "2008.0    1428\n",
       "2010.0    1259\n",
       "2007.0    1202\n",
       "2011.0    1139\n",
       "2006.0    1008\n",
       "2005.0     941\n",
       "2002.0     829\n",
       "2003.0     775\n",
       "2004.0     763\n",
       "2012.0     657\n",
       "2015.0     614\n",
       "2014.0     582\n",
       "2013.0     546\n",
       "2001.0     482\n",
       "1998.0     379\n",
       "2000.0     349\n",
       "2016.0     344\n",
       "1999.0     338\n",
       "1997.0     289\n",
       "1996.0     263\n",
       "1995.0     219\n",
       "1994.0     121\n",
       "1993.0      60\n",
       "1981.0      46\n",
       "1992.0      43\n",
       "1991.0      41\n",
       "1982.0      36\n",
       "1986.0      21\n",
       "1983.0      17\n",
       "1989.0      17\n",
       "1990.0      16\n",
       "1987.0      16\n",
       "1988.0      15\n",
       "1985.0      14\n",
       "1984.0      14\n",
       "1980.0       9\n",
       "2017.0       3\n",
       "2020.0       1\n",
       "Name: count, dtype: int64"
      ]
     },
     "execution_count": 13,
     "metadata": {},
     "output_type": "execute_result"
    }
   ],
   "source": [
    "df['Year'].value_counts().sort_values(ascending=False)\n"
   ]
  },
  {
   "cell_type": "code",
   "execution_count": 14,
   "id": "6b542607",
   "metadata": {
    "scrolled": true
   },
   "outputs": [],
   "source": [
    "df['Year'] = df['Year'].fillna(0).astype(int)"
   ]
  },
  {
   "cell_type": "code",
   "execution_count": 15,
   "id": "a9b59cdb",
   "metadata": {},
   "outputs": [
    {
     "data": {
      "image/png": "[encoded data removed]",
      "text/plain": [
       "<Figure size 1500x1000 with 1 Axes>"
      ]
     },
     "metadata": {},
     "output_type": "display_data"
    }
   ],
   "source": [
    "plt.figure(figsize = (15,10))\n",
    "sns.set(style=\"whitegrid\")\n",
    "\n",
    "# Create the barplot using seaborn\n",
    "ax = sns.countplot(x = df.Year[df['Year'] > 0], color = 'green', orient = 'v')\n",
    "\n",
    "# Set the title and labels\n",
    "ax.set_title(\"Frequency of game release in each year\")\n",
    "ax.set_xlabel(\"Year\")\n",
    "ax.set_ylabel(\"Frequency\")\n",
    "plt.xticks(rotation=45)\n",
    "# Show the plot\n",
    "plt.show()"
   ]
  },
  {
   "cell_type": "markdown",
   "id": "94b522fe",
   "metadata": {},
   "source": [
    "### Seems like the release of games between 80's and 90's had a little amount of releases, which it's comprehensive because of the existing technology during that time, turning the develope of games difficult and expensive. Between 1990 and 2010, had a great increase in the number of released games, where the popularity of video games increased due to the video games turned cheaper and accessible while the technology evolves. After 2010, the released games have been expressively reducing by the years, it may be due to the advance of the technologies and increasing the amount of money and time invested to develope new games, where these games have nowadays the level of film productions, resuting in a less number of releases."
   ]
  },
  {
   "cell_type": "markdown",
   "id": "c464bfbf",
   "metadata": {},
   "source": [
    "## Sales in America"
   ]
  },
  {
   "cell_type": "code",
   "execution_count": 16,
   "id": "5ffd6798",
   "metadata": {},
   "outputs": [
    {
     "data": {
      "text/plain": [
       "<Axes: xlabel='NA_Sales', ylabel='Count'>"
      ]
     },
     "execution_count": 16,
     "metadata": {},
     "output_type": "execute_result"
    },
    {
     "data": {
      "image/png": "[encoded data removed]",
      "text/plain": [
       "<Figure size 640x480 with 1 Axes>"
      ]
     },
     "metadata": {},
     "output_type": "display_data"
    }
   ],
   "source": [
    "sns.histplot(df.NA_Sales)"
   ]
  },
  {
   "cell_type": "code",
   "execution_count": 17,
   "id": "a7880610",
   "metadata": {},
   "outputs": [
    {
     "data": {
      "text/plain": [
       "<Axes: xlabel='NA_Sales', ylabel='Count'>"
      ]
     },
     "execution_count": 17,
     "metadata": {},
     "output_type": "execute_result"
    },
    {
     "data": {
      "image/png": "[encoded data removed]",
      "text/plain": [
       "<Figure size 640x480 with 1 Axes>"
      ]
     },
     "metadata": {},
     "output_type": "display_data"
    }
   ],
   "source": [
    "sns.histplot(df.NA_Sales[df['NA_Sales'] <2 ])"
   ]
  },
  {
   "cell_type": "markdown",
   "id": "7ba62e3c",
   "metadata": {},
   "source": [
    "## Sales in Europe "
   ]
  },
  {
   "cell_type": "code",
   "execution_count": 18,
   "id": "13afa9a2",
   "metadata": {},
   "outputs": [
    {
     "data": {
      "text/plain": [
       "<Axes: xlabel='EU_Sales', ylabel='Count'>"
      ]
     },
     "execution_count": 18,
     "metadata": {},
     "output_type": "execute_result"
    },
    {
     "data": {
      "image/png": "[encoded data removed]",
      "text/plain": [
       "<Figure size 640x480 with 1 Axes>"
      ]
     },
     "metadata": {},
     "output_type": "display_data"
    }
   ],
   "source": [
    "sns.histplot(df.EU_Sales)"
   ]
  },
  {
   "cell_type": "code",
   "execution_count": 19,
   "id": "2279c100",
   "metadata": {},
   "outputs": [
    {
     "data": {
      "text/plain": [
       "<Axes: xlabel='EU_Sales', ylabel='Count'>"
      ]
     },
     "execution_count": 19,
     "metadata": {},
     "output_type": "execute_result"
    },
    {
     "data": {
      "image/png": "[encoded data removed]",
      "text/plain": [
       "<Figure size 640x480 with 1 Axes>"
      ]
     },
     "metadata": {},
     "output_type": "display_data"
    }
   ],
   "source": [
    "sns.histplot(df.EU_Sales[df['EU_Sales'] <2 ])"
   ]
  },
  {
   "cell_type": "markdown",
   "id": "01e6cc1d",
   "metadata": {},
   "source": [
    "## Sales in Japan "
   ]
  },
  {
   "cell_type": "code",
   "execution_count": 20,
   "id": "e5082b77",
   "metadata": {},
   "outputs": [
    {
     "data": {
      "text/plain": [
       "<Axes: xlabel='JP_Sales', ylabel='Count'>"
      ]
     },
     "execution_count": 20,
     "metadata": {},
     "output_type": "execute_result"
    },
    {
     "data": {
      "image/png": "[encoded data removed]",
      "text/plain": [
       "<Figure size 640x480 with 1 Axes>"
      ]
     },
     "metadata": {},
     "output_type": "display_data"
    }
   ],
   "source": [
    "sns.histplot(df['JP_Sales'])"
   ]
  },
  {
   "cell_type": "code",
   "execution_count": 21,
   "id": "0f204fe6",
   "metadata": {},
   "outputs": [
    {
     "data": {
      "text/plain": [
       "<Axes: xlabel='JP_Sales', ylabel='Count'>"
      ]
     },
     "execution_count": 21,
     "metadata": {},
     "output_type": "execute_result"
    },
    {
     "data": {
      "image/png": "[encoded data removed]",
      "text/plain": [
       "<Figure size 640x480 with 1 Axes>"
      ]
     },
     "metadata": {},
     "output_type": "display_data"
    }
   ],
   "source": [
    "sns.histplot(df.JP_Sales[df['JP_Sales'] < 2])"
   ]
  },
  {
   "cell_type": "markdown",
   "id": "a8b19c01",
   "metadata": {},
   "source": [
    "## Sales in the rest of the world"
   ]
  },
  {
   "cell_type": "code",
   "execution_count": 22,
   "id": "fd2ce926",
   "metadata": {},
   "outputs": [
    {
     "data": {
      "text/plain": [
       "<Axes: xlabel='Other_Sales', ylabel='Count'>"
      ]
     },
     "execution_count": 22,
     "metadata": {},
     "output_type": "execute_result"
    },
    {
     "data": {
      "image/png": "[encoded data removed]",
      "text/plain": [
       "<Figure size 640x480 with 1 Axes>"
      ]
     },
     "metadata": {},
     "output_type": "display_data"
    }
   ],
   "source": [
    "sns.histplot(df['Other_Sales'])"
   ]
  },
  {
   "cell_type": "code",
   "execution_count": 23,
   "id": "1eaf6773",
   "metadata": {},
   "outputs": [
    {
     "data": {
      "text/plain": [
       "<Axes: xlabel='Other_Sales', ylabel='Count'>"
      ]
     },
     "execution_count": 23,
     "metadata": {},
     "output_type": "execute_result"
    },
    {
     "data": {
      "image/png": "[encoded data removed]",
      "text/plain": [
       "<Figure size 640x480 with 1 Axes>"
      ]
     },
     "metadata": {},
     "output_type": "display_data"
    }
   ],
   "source": [
    "sns.histplot(df.Other_Sales[df['Other_Sales'] < 2])"
   ]
  },
  {
   "cell_type": "markdown",
   "id": "262e29ca",
   "metadata": {},
   "source": [
    "## Total sales around the world"
   ]
  },
  {
   "cell_type": "code",
   "execution_count": 24,
   "id": "330f25f5",
   "metadata": {},
   "outputs": [
    {
     "data": {
      "text/plain": [
       "<Axes: xlabel='Global_Sales', ylabel='Count'>"
      ]
     },
     "execution_count": 24,
     "metadata": {},
     "output_type": "execute_result"
    },
    {
     "data": {
      "image/png": "[encoded data removed]",
      "text/plain": [
       "<Figure size 640x480 with 1 Axes>"
      ]
     },
     "metadata": {},
     "output_type": "display_data"
    }
   ],
   "source": [
    "sns.histplot(df['Global_Sales'])"
   ]
  },
  {
   "cell_type": "code",
   "execution_count": 25,
   "id": "43975f23",
   "metadata": {},
   "outputs": [
    {
     "data": {
      "text/plain": [
       "<Axes: xlabel='Global_Sales', ylabel='Count'>"
      ]
     },
     "execution_count": 25,
     "metadata": {},
     "output_type": "execute_result"
    },
    {
     "data": {
      "image/png": "[encoded data removed]",
      "text/plain": [
       "<Figure size 640x480 with 1 Axes>"
      ]
     },
     "metadata": {},
     "output_type": "display_data"
    }
   ],
   "source": [
    "sns.histplot(df.Global_Sales[df['Global_Sales'] < 2])"
   ]
  },
  {
   "cell_type": "markdown",
   "id": "47fedb02",
   "metadata": {},
   "source": [
    "### With the graphical analysis, seems that the sales are mostly under 2 million copies "
   ]
  },
  {
   "cell_type": "markdown",
   "id": "dd20b00c",
   "metadata": {},
   "source": [
    "## Lets see the 10 most selled games between 1980 and 2020"
   ]
  },
  {
   "cell_type": "code",
   "execution_count": 73,
   "id": "59ebb26e",
   "metadata": {},
   "outputs": [
    {
     "data": {
      "text/plain": [
       "Index(['Rank', 'Name', 'Platform', 'Year', 'Genre', 'Publisher', 'NA_Sales',\n",
       "       'EU_Sales', 'JP_Sales', 'Other_Sales', 'Global_Sales'],\n",
       "      dtype='object')"
      ]
     },
     "execution_count": 73,
     "metadata": {},
     "output_type": "execute_result"
    }
   ],
   "source": [
    "df.columns"
   ]
  },
  {
   "cell_type": "code",
   "execution_count": 54,
   "id": "d097f58d",
   "metadata": {
    "scrolled": true
   },
   "outputs": [
    {
     "data": {
      "text/html": [
       "<div>\n",
       "<style scoped>\n",
       "    .dataframe tbody tr th:only-of-type {\n",
       "        vertical-align: middle;\n",
       "    }\n",
       "\n",
       "    .dataframe tbody tr th {\n",
       "        vertical-align: top;\n",
       "    }\n",
       "\n",
       "    .dataframe thead th {\n",
       "        text-align: right;\n",
       "    }\n",
       "</style>\n",
       "<table border=\"1\" class=\"dataframe\">\n",
       "  <thead>\n",
       "    <tr style=\"text-align: right;\">\n",
       "      <th></th>\n",
       "      <th>Name</th>\n",
       "      <th>Global_Sales</th>\n",
       "      <th>Genre</th>\n",
       "    </tr>\n",
       "  </thead>\n",
       "  <tbody>\n",
       "    <tr>\n",
       "      <th>11007</th>\n",
       "      <td>Wii Sports</td>\n",
       "      <td>82.74</td>\n",
       "      <td>Sports</td>\n",
       "    </tr>\n",
       "    <tr>\n",
       "      <th>3712</th>\n",
       "      <td>Grand Theft Auto V</td>\n",
       "      <td>55.92</td>\n",
       "      <td>Action</td>\n",
       "    </tr>\n",
       "    <tr>\n",
       "      <th>9327</th>\n",
       "      <td>Super Mario Bros.</td>\n",
       "      <td>45.31</td>\n",
       "      <td>Platform</td>\n",
       "    </tr>\n",
       "    <tr>\n",
       "      <th>9715</th>\n",
       "      <td>Tetris</td>\n",
       "      <td>35.84</td>\n",
       "      <td>Puzzle</td>\n",
       "    </tr>\n",
       "    <tr>\n",
       "      <th>5573</th>\n",
       "      <td>Mario Kart Wii</td>\n",
       "      <td>35.82</td>\n",
       "      <td>Racing</td>\n",
       "    </tr>\n",
       "    <tr>\n",
       "      <th>11009</th>\n",
       "      <td>Wii Sports Resort</td>\n",
       "      <td>33.00</td>\n",
       "      <td>Sports</td>\n",
       "    </tr>\n",
       "    <tr>\n",
       "      <th>7346</th>\n",
       "      <td>Pokemon Red/Pokemon Blue</td>\n",
       "      <td>31.37</td>\n",
       "      <td>Role-Playing</td>\n",
       "    </tr>\n",
       "    <tr>\n",
       "      <th>1222</th>\n",
       "      <td>Call of Duty: Black Ops</td>\n",
       "      <td>31.03</td>\n",
       "      <td>Shooter</td>\n",
       "    </tr>\n",
       "    <tr>\n",
       "      <th>1228</th>\n",
       "      <td>Call of Duty: Modern Warfare 3</td>\n",
       "      <td>30.83</td>\n",
       "      <td>Shooter</td>\n",
       "    </tr>\n",
       "    <tr>\n",
       "      <th>6723</th>\n",
       "      <td>New Super Mario Bros.</td>\n",
       "      <td>30.01</td>\n",
       "      <td>Platform</td>\n",
       "    </tr>\n",
       "  </tbody>\n",
       "</table>\n",
       "</div>"
      ],
      "text/plain": [
       "                                 Name  Global_Sales         Genre\n",
       "11007                      Wii Sports         82.74        Sports\n",
       "3712               Grand Theft Auto V         55.92        Action\n",
       "9327                Super Mario Bros.         45.31      Platform\n",
       "9715                           Tetris         35.84        Puzzle\n",
       "5573                   Mario Kart Wii         35.82        Racing\n",
       "11009               Wii Sports Resort         33.00        Sports\n",
       "7346         Pokemon Red/Pokemon Blue         31.37  Role-Playing\n",
       "1222          Call of Duty: Black Ops         31.03       Shooter\n",
       "1228   Call of Duty: Modern Warfare 3         30.83       Shooter\n",
       "6723            New Super Mario Bros.         30.01      Platform"
      ]
     },
     "execution_count": 54,
     "metadata": {},
     "output_type": "execute_result"
    }
   ],
   "source": [
    "df.groupby('Name')[['Global_Sales','Genre']].agg({'Global_Sales':'sum', 'Genre':'last'}).reset_index().sort_values(by = 'Global_Sales', ascending= False).head(10)"
   ]
  },
  {
   "cell_type": "code",
   "execution_count": 47,
   "id": "ed404a6b",
   "metadata": {},
   "outputs": [],
   "source": [
    "df_MPGS = df.groupby('Name')[['Global_Sales']].agg({'Global_Sales':'sum'}).reset_index().sort_values(by = 'Global_Sales', ascending= False).head(10)"
   ]
  },
  {
   "cell_type": "code",
   "execution_count": 45,
   "id": "57db3fba",
   "metadata": {},
   "outputs": [
    {
     "data": {
      "text/html": [
       "<div>\n",
       "<style scoped>\n",
       "    .dataframe tbody tr th:only-of-type {\n",
       "        vertical-align: middle;\n",
       "    }\n",
       "\n",
       "    .dataframe tbody tr th {\n",
       "        vertical-align: top;\n",
       "    }\n",
       "\n",
       "    .dataframe thead th {\n",
       "        text-align: right;\n",
       "    }\n",
       "</style>\n",
       "<table border=\"1\" class=\"dataframe\">\n",
       "  <thead>\n",
       "    <tr style=\"text-align: right;\">\n",
       "      <th></th>\n",
       "      <th>Name</th>\n",
       "      <th>Global_Sales</th>\n",
       "    </tr>\n",
       "  </thead>\n",
       "  <tbody>\n",
       "    <tr>\n",
       "      <th>11007</th>\n",
       "      <td>Wii Sports</td>\n",
       "      <td>82.74</td>\n",
       "    </tr>\n",
       "    <tr>\n",
       "      <th>3712</th>\n",
       "      <td>Grand Theft Auto V</td>\n",
       "      <td>55.92</td>\n",
       "    </tr>\n",
       "    <tr>\n",
       "      <th>9327</th>\n",
       "      <td>Super Mario Bros.</td>\n",
       "      <td>45.31</td>\n",
       "    </tr>\n",
       "    <tr>\n",
       "      <th>9715</th>\n",
       "      <td>Tetris</td>\n",
       "      <td>35.84</td>\n",
       "    </tr>\n",
       "    <tr>\n",
       "      <th>5573</th>\n",
       "      <td>Mario Kart Wii</td>\n",
       "      <td>35.82</td>\n",
       "    </tr>\n",
       "    <tr>\n",
       "      <th>11009</th>\n",
       "      <td>Wii Sports Resort</td>\n",
       "      <td>33.00</td>\n",
       "    </tr>\n",
       "    <tr>\n",
       "      <th>7346</th>\n",
       "      <td>Pokemon Red/Pokemon Blue</td>\n",
       "      <td>31.37</td>\n",
       "    </tr>\n",
       "    <tr>\n",
       "      <th>1222</th>\n",
       "      <td>Call of Duty: Black Ops</td>\n",
       "      <td>31.03</td>\n",
       "    </tr>\n",
       "    <tr>\n",
       "      <th>1228</th>\n",
       "      <td>Call of Duty: Modern Warfare 3</td>\n",
       "      <td>30.83</td>\n",
       "    </tr>\n",
       "    <tr>\n",
       "      <th>6723</th>\n",
       "      <td>New Super Mario Bros.</td>\n",
       "      <td>30.01</td>\n",
       "    </tr>\n",
       "  </tbody>\n",
       "</table>\n",
       "</div>"
      ],
      "text/plain": [
       "                                 Name  Global_Sales\n",
       "11007                      Wii Sports         82.74\n",
       "3712               Grand Theft Auto V         55.92\n",
       "9327                Super Mario Bros.         45.31\n",
       "9715                           Tetris         35.84\n",
       "5573                   Mario Kart Wii         35.82\n",
       "11009               Wii Sports Resort         33.00\n",
       "7346         Pokemon Red/Pokemon Blue         31.37\n",
       "1222          Call of Duty: Black Ops         31.03\n",
       "1228   Call of Duty: Modern Warfare 3         30.83\n",
       "6723            New Super Mario Bros.         30.01"
      ]
     },
     "execution_count": 45,
     "metadata": {},
     "output_type": "execute_result"
    }
   ],
   "source": [
    "df_MPGS.sort_values(by = 'Global_Sales', ascending= False).head(10)"
   ]
  },
  {
   "cell_type": "code",
   "execution_count": 72,
   "id": "33fd9b9f",
   "metadata": {},
   "outputs": [
    {
     "data": {
      "image/png": "[encoded data removed]",
      "text/plain": [
       "<Figure size 1500x1000 with 1 Axes>"
      ]
     },
     "metadata": {},
     "output_type": "display_data"
    },
    {
     "data": {
      "text/plain": [
       "<Figure size 2000x1000 with 0 Axes>"
      ]
     },
     "metadata": {},
     "output_type": "display_data"
    }
   ],
   "source": [
    "plt.figure(figsize = (15,10))\n",
    "sns.barplot(hue= df_MPGS.Name, y = df_MPGS.Name, x= df_MPGS.Global_Sales)\n",
    "plt.xticks(rotation=45)\n",
    "plt.title('Top 10 most selled games')\n",
    "plt.figure(figsize = (20,10))\n",
    "plt.show()"
   ]
  },
  {
   "cell_type": "markdown",
   "id": "6bfc94b5",
   "metadata": {},
   "source": [
    "# Realesed games by platform"
   ]
  },
  {
   "cell_type": "code",
   "execution_count": 164,
   "id": "025dfe1e",
   "metadata": {},
   "outputs": [],
   "source": [
    "dfGP = pd.crosstab(df['Platform'], df['Genre'])"
   ]
  },
  {
   "cell_type": "code",
   "execution_count": 165,
   "id": "6efc0ef5",
   "metadata": {},
   "outputs": [],
   "source": [
    "dfGP['Total'] = dfGP.sum(axis= 1)"
   ]
  },
  {
   "cell_type": "code",
   "execution_count": 166,
   "id": "aef89113",
   "metadata": {},
   "outputs": [
    {
     "data": {
      "text/html": [
       "<div>\n",
       "<style scoped>\n",
       "    .dataframe tbody tr th:only-of-type {\n",
       "        vertical-align: middle;\n",
       "    }\n",
       "\n",
       "    .dataframe tbody tr th {\n",
       "        vertical-align: top;\n",
       "    }\n",
       "\n",
       "    .dataframe thead th {\n",
       "        text-align: right;\n",
       "    }\n",
       "</style>\n",
       "<table border=\"1\" class=\"dataframe\">\n",
       "  <thead>\n",
       "    <tr style=\"text-align: right;\">\n",
       "      <th>Genre</th>\n",
       "      <th>Action</th>\n",
       "      <th>Adventure</th>\n",
       "      <th>Fighting</th>\n",
       "      <th>Misc</th>\n",
       "      <th>Platform</th>\n",
       "      <th>Puzzle</th>\n",
       "      <th>Racing</th>\n",
       "      <th>Role-Playing</th>\n",
       "      <th>Shooter</th>\n",
       "      <th>Simulation</th>\n",
       "      <th>Sports</th>\n",
       "      <th>Strategy</th>\n",
       "      <th>Total</th>\n",
       "    </tr>\n",
       "    <tr>\n",
       "      <th>Platform</th>\n",
       "      <th></th>\n",
       "      <th></th>\n",
       "      <th></th>\n",
       "      <th></th>\n",
       "      <th></th>\n",
       "      <th></th>\n",
       "      <th></th>\n",
       "      <th></th>\n",
       "      <th></th>\n",
       "      <th></th>\n",
       "      <th></th>\n",
       "      <th></th>\n",
       "      <th></th>\n",
       "    </tr>\n",
       "  </thead>\n",
       "  <tbody>\n",
       "    <tr>\n",
       "      <th>DS</th>\n",
       "      <td>343</td>\n",
       "      <td>240</td>\n",
       "      <td>36</td>\n",
       "      <td>393</td>\n",
       "      <td>92</td>\n",
       "      <td>238</td>\n",
       "      <td>67</td>\n",
       "      <td>200</td>\n",
       "      <td>42</td>\n",
       "      <td>285</td>\n",
       "      <td>148</td>\n",
       "      <td>79</td>\n",
       "      <td>2163</td>\n",
       "    </tr>\n",
       "    <tr>\n",
       "      <th>PS2</th>\n",
       "      <td>348</td>\n",
       "      <td>196</td>\n",
       "      <td>150</td>\n",
       "      <td>222</td>\n",
       "      <td>103</td>\n",
       "      <td>18</td>\n",
       "      <td>216</td>\n",
       "      <td>187</td>\n",
       "      <td>160</td>\n",
       "      <td>90</td>\n",
       "      <td>400</td>\n",
       "      <td>71</td>\n",
       "      <td>2161</td>\n",
       "    </tr>\n",
       "    <tr>\n",
       "      <th>PS3</th>\n",
       "      <td>380</td>\n",
       "      <td>74</td>\n",
       "      <td>76</td>\n",
       "      <td>124</td>\n",
       "      <td>37</td>\n",
       "      <td>3</td>\n",
       "      <td>92</td>\n",
       "      <td>119</td>\n",
       "      <td>156</td>\n",
       "      <td>31</td>\n",
       "      <td>213</td>\n",
       "      <td>24</td>\n",
       "      <td>1329</td>\n",
       "    </tr>\n",
       "    <tr>\n",
       "      <th>Wii</th>\n",
       "      <td>238</td>\n",
       "      <td>84</td>\n",
       "      <td>42</td>\n",
       "      <td>280</td>\n",
       "      <td>58</td>\n",
       "      <td>55</td>\n",
       "      <td>94</td>\n",
       "      <td>35</td>\n",
       "      <td>66</td>\n",
       "      <td>87</td>\n",
       "      <td>261</td>\n",
       "      <td>25</td>\n",
       "      <td>1325</td>\n",
       "    </tr>\n",
       "    <tr>\n",
       "      <th>X360</th>\n",
       "      <td>324</td>\n",
       "      <td>47</td>\n",
       "      <td>65</td>\n",
       "      <td>126</td>\n",
       "      <td>24</td>\n",
       "      <td>7</td>\n",
       "      <td>105</td>\n",
       "      <td>76</td>\n",
       "      <td>203</td>\n",
       "      <td>40</td>\n",
       "      <td>220</td>\n",
       "      <td>28</td>\n",
       "      <td>1265</td>\n",
       "    </tr>\n",
       "    <tr>\n",
       "      <th>PSP</th>\n",
       "      <td>222</td>\n",
       "      <td>213</td>\n",
       "      <td>74</td>\n",
       "      <td>106</td>\n",
       "      <td>36</td>\n",
       "      <td>44</td>\n",
       "      <td>65</td>\n",
       "      <td>192</td>\n",
       "      <td>37</td>\n",
       "      <td>29</td>\n",
       "      <td>135</td>\n",
       "      <td>60</td>\n",
       "      <td>1213</td>\n",
       "    </tr>\n",
       "    <tr>\n",
       "      <th>PS</th>\n",
       "      <td>157</td>\n",
       "      <td>69</td>\n",
       "      <td>108</td>\n",
       "      <td>76</td>\n",
       "      <td>64</td>\n",
       "      <td>32</td>\n",
       "      <td>145</td>\n",
       "      <td>97</td>\n",
       "      <td>96</td>\n",
       "      <td>60</td>\n",
       "      <td>222</td>\n",
       "      <td>70</td>\n",
       "      <td>1196</td>\n",
       "    </tr>\n",
       "    <tr>\n",
       "      <th>PC</th>\n",
       "      <td>165</td>\n",
       "      <td>65</td>\n",
       "      <td>6</td>\n",
       "      <td>24</td>\n",
       "      <td>11</td>\n",
       "      <td>25</td>\n",
       "      <td>60</td>\n",
       "      <td>104</td>\n",
       "      <td>148</td>\n",
       "      <td>115</td>\n",
       "      <td>49</td>\n",
       "      <td>188</td>\n",
       "      <td>960</td>\n",
       "    </tr>\n",
       "    <tr>\n",
       "      <th>XB</th>\n",
       "      <td>155</td>\n",
       "      <td>26</td>\n",
       "      <td>48</td>\n",
       "      <td>46</td>\n",
       "      <td>49</td>\n",
       "      <td>7</td>\n",
       "      <td>123</td>\n",
       "      <td>23</td>\n",
       "      <td>132</td>\n",
       "      <td>24</td>\n",
       "      <td>170</td>\n",
       "      <td>21</td>\n",
       "      <td>824</td>\n",
       "    </tr>\n",
       "    <tr>\n",
       "      <th>GBA</th>\n",
       "      <td>167</td>\n",
       "      <td>38</td>\n",
       "      <td>23</td>\n",
       "      <td>110</td>\n",
       "      <td>142</td>\n",
       "      <td>41</td>\n",
       "      <td>64</td>\n",
       "      <td>73</td>\n",
       "      <td>40</td>\n",
       "      <td>18</td>\n",
       "      <td>88</td>\n",
       "      <td>18</td>\n",
       "      <td>822</td>\n",
       "    </tr>\n",
       "    <tr>\n",
       "      <th>GC</th>\n",
       "      <td>101</td>\n",
       "      <td>20</td>\n",
       "      <td>42</td>\n",
       "      <td>36</td>\n",
       "      <td>73</td>\n",
       "      <td>13</td>\n",
       "      <td>63</td>\n",
       "      <td>27</td>\n",
       "      <td>48</td>\n",
       "      <td>12</td>\n",
       "      <td>110</td>\n",
       "      <td>11</td>\n",
       "      <td>556</td>\n",
       "    </tr>\n",
       "    <tr>\n",
       "      <th>3DS</th>\n",
       "      <td>182</td>\n",
       "      <td>37</td>\n",
       "      <td>14</td>\n",
       "      <td>53</td>\n",
       "      <td>28</td>\n",
       "      <td>20</td>\n",
       "      <td>11</td>\n",
       "      <td>86</td>\n",
       "      <td>7</td>\n",
       "      <td>30</td>\n",
       "      <td>26</td>\n",
       "      <td>15</td>\n",
       "      <td>509</td>\n",
       "    </tr>\n",
       "    <tr>\n",
       "      <th>PSV</th>\n",
       "      <td>142</td>\n",
       "      <td>86</td>\n",
       "      <td>16</td>\n",
       "      <td>24</td>\n",
       "      <td>10</td>\n",
       "      <td>3</td>\n",
       "      <td>11</td>\n",
       "      <td>83</td>\n",
       "      <td>5</td>\n",
       "      <td>3</td>\n",
       "      <td>23</td>\n",
       "      <td>7</td>\n",
       "      <td>413</td>\n",
       "    </tr>\n",
       "    <tr>\n",
       "      <th>PS4</th>\n",
       "      <td>122</td>\n",
       "      <td>19</td>\n",
       "      <td>17</td>\n",
       "      <td>15</td>\n",
       "      <td>11</td>\n",
       "      <td>1</td>\n",
       "      <td>17</td>\n",
       "      <td>47</td>\n",
       "      <td>34</td>\n",
       "      <td>5</td>\n",
       "      <td>43</td>\n",
       "      <td>5</td>\n",
       "      <td>336</td>\n",
       "    </tr>\n",
       "    <tr>\n",
       "      <th>N64</th>\n",
       "      <td>38</td>\n",
       "      <td>4</td>\n",
       "      <td>29</td>\n",
       "      <td>18</td>\n",
       "      <td>30</td>\n",
       "      <td>12</td>\n",
       "      <td>57</td>\n",
       "      <td>8</td>\n",
       "      <td>24</td>\n",
       "      <td>10</td>\n",
       "      <td>80</td>\n",
       "      <td>9</td>\n",
       "      <td>319</td>\n",
       "    </tr>\n",
       "    <tr>\n",
       "      <th>SNES</th>\n",
       "      <td>12</td>\n",
       "      <td>4</td>\n",
       "      <td>25</td>\n",
       "      <td>17</td>\n",
       "      <td>26</td>\n",
       "      <td>13</td>\n",
       "      <td>9</td>\n",
       "      <td>50</td>\n",
       "      <td>10</td>\n",
       "      <td>9</td>\n",
       "      <td>49</td>\n",
       "      <td>15</td>\n",
       "      <td>239</td>\n",
       "    </tr>\n",
       "    <tr>\n",
       "      <th>XOne</th>\n",
       "      <td>68</td>\n",
       "      <td>12</td>\n",
       "      <td>7</td>\n",
       "      <td>15</td>\n",
       "      <td>4</td>\n",
       "      <td>0</td>\n",
       "      <td>19</td>\n",
       "      <td>13</td>\n",
       "      <td>33</td>\n",
       "      <td>3</td>\n",
       "      <td>36</td>\n",
       "      <td>3</td>\n",
       "      <td>213</td>\n",
       "    </tr>\n",
       "    <tr>\n",
       "      <th>SAT</th>\n",
       "      <td>3</td>\n",
       "      <td>26</td>\n",
       "      <td>31</td>\n",
       "      <td>15</td>\n",
       "      <td>5</td>\n",
       "      <td>5</td>\n",
       "      <td>8</td>\n",
       "      <td>17</td>\n",
       "      <td>22</td>\n",
       "      <td>7</td>\n",
       "      <td>16</td>\n",
       "      <td>18</td>\n",
       "      <td>173</td>\n",
       "    </tr>\n",
       "    <tr>\n",
       "      <th>WiiU</th>\n",
       "      <td>63</td>\n",
       "      <td>3</td>\n",
       "      <td>5</td>\n",
       "      <td>21</td>\n",
       "      <td>16</td>\n",
       "      <td>4</td>\n",
       "      <td>3</td>\n",
       "      <td>6</td>\n",
       "      <td>10</td>\n",
       "      <td>1</td>\n",
       "      <td>8</td>\n",
       "      <td>3</td>\n",
       "      <td>143</td>\n",
       "    </tr>\n",
       "    <tr>\n",
       "      <th>2600</th>\n",
       "      <td>61</td>\n",
       "      <td>2</td>\n",
       "      <td>2</td>\n",
       "      <td>5</td>\n",
       "      <td>9</td>\n",
       "      <td>11</td>\n",
       "      <td>6</td>\n",
       "      <td>0</td>\n",
       "      <td>24</td>\n",
       "      <td>1</td>\n",
       "      <td>12</td>\n",
       "      <td>0</td>\n",
       "      <td>133</td>\n",
       "    </tr>\n",
       "    <tr>\n",
       "      <th>NES</th>\n",
       "      <td>13</td>\n",
       "      <td>1</td>\n",
       "      <td>4</td>\n",
       "      <td>2</td>\n",
       "      <td>28</td>\n",
       "      <td>14</td>\n",
       "      <td>4</td>\n",
       "      <td>11</td>\n",
       "      <td>7</td>\n",
       "      <td>0</td>\n",
       "      <td>14</td>\n",
       "      <td>0</td>\n",
       "      <td>98</td>\n",
       "    </tr>\n",
       "    <tr>\n",
       "      <th>GB</th>\n",
       "      <td>6</td>\n",
       "      <td>5</td>\n",
       "      <td>0</td>\n",
       "      <td>8</td>\n",
       "      <td>19</td>\n",
       "      <td>15</td>\n",
       "      <td>2</td>\n",
       "      <td>21</td>\n",
       "      <td>1</td>\n",
       "      <td>5</td>\n",
       "      <td>9</td>\n",
       "      <td>7</td>\n",
       "      <td>98</td>\n",
       "    </tr>\n",
       "    <tr>\n",
       "      <th>DC</th>\n",
       "      <td>3</td>\n",
       "      <td>11</td>\n",
       "      <td>12</td>\n",
       "      <td>0</td>\n",
       "      <td>2</td>\n",
       "      <td>0</td>\n",
       "      <td>6</td>\n",
       "      <td>4</td>\n",
       "      <td>3</td>\n",
       "      <td>1</td>\n",
       "      <td>10</td>\n",
       "      <td>0</td>\n",
       "      <td>52</td>\n",
       "    </tr>\n",
       "    <tr>\n",
       "      <th>GEN</th>\n",
       "      <td>3</td>\n",
       "      <td>2</td>\n",
       "      <td>5</td>\n",
       "      <td>1</td>\n",
       "      <td>7</td>\n",
       "      <td>0</td>\n",
       "      <td>1</td>\n",
       "      <td>3</td>\n",
       "      <td>1</td>\n",
       "      <td>0</td>\n",
       "      <td>3</td>\n",
       "      <td>1</td>\n",
       "      <td>27</td>\n",
       "    </tr>\n",
       "    <tr>\n",
       "      <th>NG</th>\n",
       "      <td>0</td>\n",
       "      <td>0</td>\n",
       "      <td>11</td>\n",
       "      <td>0</td>\n",
       "      <td>0</td>\n",
       "      <td>0</td>\n",
       "      <td>0</td>\n",
       "      <td>0</td>\n",
       "      <td>0</td>\n",
       "      <td>0</td>\n",
       "      <td>1</td>\n",
       "      <td>0</td>\n",
       "      <td>12</td>\n",
       "    </tr>\n",
       "    <tr>\n",
       "      <th>SCD</th>\n",
       "      <td>0</td>\n",
       "      <td>0</td>\n",
       "      <td>0</td>\n",
       "      <td>2</td>\n",
       "      <td>1</td>\n",
       "      <td>0</td>\n",
       "      <td>1</td>\n",
       "      <td>1</td>\n",
       "      <td>0</td>\n",
       "      <td>0</td>\n",
       "      <td>0</td>\n",
       "      <td>1</td>\n",
       "      <td>6</td>\n",
       "    </tr>\n",
       "    <tr>\n",
       "      <th>WS</th>\n",
       "      <td>0</td>\n",
       "      <td>0</td>\n",
       "      <td>0</td>\n",
       "      <td>0</td>\n",
       "      <td>0</td>\n",
       "      <td>0</td>\n",
       "      <td>0</td>\n",
       "      <td>4</td>\n",
       "      <td>0</td>\n",
       "      <td>0</td>\n",
       "      <td>0</td>\n",
       "      <td>2</td>\n",
       "      <td>6</td>\n",
       "    </tr>\n",
       "    <tr>\n",
       "      <th>3DO</th>\n",
       "      <td>0</td>\n",
       "      <td>1</td>\n",
       "      <td>0</td>\n",
       "      <td>0</td>\n",
       "      <td>0</td>\n",
       "      <td>1</td>\n",
       "      <td>0</td>\n",
       "      <td>0</td>\n",
       "      <td>0</td>\n",
       "      <td>1</td>\n",
       "      <td>0</td>\n",
       "      <td>0</td>\n",
       "      <td>3</td>\n",
       "    </tr>\n",
       "    <tr>\n",
       "      <th>TG16</th>\n",
       "      <td>0</td>\n",
       "      <td>1</td>\n",
       "      <td>0</td>\n",
       "      <td>0</td>\n",
       "      <td>0</td>\n",
       "      <td>0</td>\n",
       "      <td>0</td>\n",
       "      <td>0</td>\n",
       "      <td>1</td>\n",
       "      <td>0</td>\n",
       "      <td>0</td>\n",
       "      <td>0</td>\n",
       "      <td>2</td>\n",
       "    </tr>\n",
       "    <tr>\n",
       "      <th>PCFX</th>\n",
       "      <td>0</td>\n",
       "      <td>0</td>\n",
       "      <td>0</td>\n",
       "      <td>0</td>\n",
       "      <td>0</td>\n",
       "      <td>0</td>\n",
       "      <td>0</td>\n",
       "      <td>1</td>\n",
       "      <td>0</td>\n",
       "      <td>0</td>\n",
       "      <td>0</td>\n",
       "      <td>0</td>\n",
       "      <td>1</td>\n",
       "    </tr>\n",
       "    <tr>\n",
       "      <th>GG</th>\n",
       "      <td>0</td>\n",
       "      <td>0</td>\n",
       "      <td>0</td>\n",
       "      <td>0</td>\n",
       "      <td>1</td>\n",
       "      <td>0</td>\n",
       "      <td>0</td>\n",
       "      <td>0</td>\n",
       "      <td>0</td>\n",
       "      <td>0</td>\n",
       "      <td>0</td>\n",
       "      <td>0</td>\n",
       "      <td>1</td>\n",
       "    </tr>\n",
       "  </tbody>\n",
       "</table>\n",
       "</div>"
      ],
      "text/plain": [
       "Genre     Action  Adventure  Fighting  Misc  Platform  Puzzle  Racing  \\\n",
       "Platform                                                                \n",
       "DS           343        240        36   393        92     238      67   \n",
       "PS2          348        196       150   222       103      18     216   \n",
       "PS3          380         74        76   124        37       3      92   \n",
       "Wii          238         84        42   280        58      55      94   \n",
       "X360         324         47        65   126        24       7     105   \n",
       "PSP          222        213        74   106        36      44      65   \n",
       "PS           157         69       108    76        64      32     145   \n",
       "PC           165         65         6    24        11      25      60   \n",
       "XB           155         26        48    46        49       7     123   \n",
       "GBA          167         38        23   110       142      41      64   \n",
       "GC           101         20        42    36        73      13      63   \n",
       "3DS          182         37        14    53        28      20      11   \n",
       "PSV          142         86        16    24        10       3      11   \n",
       "PS4          122         19        17    15        11       1      17   \n",
       "N64           38          4        29    18        30      12      57   \n",
       "SNES          12          4        25    17        26      13       9   \n",
       "XOne          68         12         7    15         4       0      19   \n",
       "SAT            3         26        31    15         5       5       8   \n",
       "WiiU          63          3         5    21        16       4       3   \n",
       "2600          61          2         2     5         9      11       6   \n",
       "NES           13          1         4     2        28      14       4   \n",
       "GB             6          5         0     8        19      15       2   \n",
       "DC             3         11        12     0         2       0       6   \n",
       "GEN            3          2         5     1         7       0       1   \n",
       "NG             0          0        11     0         0       0       0   \n",
       "SCD            0          0         0     2         1       0       1   \n",
       "WS             0          0         0     0         0       0       0   \n",
       "3DO            0          1         0     0         0       1       0   \n",
       "TG16           0          1         0     0         0       0       0   \n",
       "PCFX           0          0         0     0         0       0       0   \n",
       "GG             0          0         0     0         1       0       0   \n",
       "\n",
       "Genre     Role-Playing  Shooter  Simulation  Sports  Strategy  Total  \n",
       "Platform                                                              \n",
       "DS                 200       42         285     148        79   2163  \n",
       "PS2                187      160          90     400        71   2161  \n",
       "PS3                119      156          31     213        24   1329  \n",
       "Wii                 35       66          87     261        25   1325  \n",
       "X360                76      203          40     220        28   1265  \n",
       "PSP                192       37          29     135        60   1213  \n",
       "PS                  97       96          60     222        70   1196  \n",
       "PC                 104      148         115      49       188    960  \n",
       "XB                  23      132          24     170        21    824  \n",
       "GBA                 73       40          18      88        18    822  \n",
       "GC                  27       48          12     110        11    556  \n",
       "3DS                 86        7          30      26        15    509  \n",
       "PSV                 83        5           3      23         7    413  \n",
       "PS4                 47       34           5      43         5    336  \n",
       "N64                  8       24          10      80         9    319  \n",
       "SNES                50       10           9      49        15    239  \n",
       "XOne                13       33           3      36         3    213  \n",
       "SAT                 17       22           7      16        18    173  \n",
       "WiiU                 6       10           1       8         3    143  \n",
       "2600                 0       24           1      12         0    133  \n",
       "NES                 11        7           0      14         0     98  \n",
       "GB                  21        1           5       9         7     98  \n",
       "DC                   4        3           1      10         0     52  \n",
       "GEN                  3        1           0       3         1     27  \n",
       "NG                   0        0           0       1         0     12  \n",
       "SCD                  1        0           0       0         1      6  \n",
       "WS                   4        0           0       0         2      6  \n",
       "3DO                  0        0           1       0         0      3  \n",
       "TG16                 0        1           0       0         0      2  \n",
       "PCFX                 1        0           0       0         0      1  \n",
       "GG                   0        0           0       0         0      1  "
      ]
     },
     "execution_count": 166,
     "metadata": {},
     "output_type": "execute_result"
    }
   ],
   "source": [
    "dfGP.sort_values(by = 'Total', ascending= False)"
   ]
  },
  {
   "cell_type": "code",
   "execution_count": 147,
   "id": "5b112374",
   "metadata": {},
   "outputs": [
    {
     "data": {
      "text/plain": [
       "Index(['Action', 'Adventure', 'Fighting', 'Misc', 'Platform', 'Puzzle',\n",
       "       'Racing', 'Role-Playing', 'Shooter', 'Simulation', 'Sports', 'Strategy',\n",
       "       'Total'],\n",
       "      dtype='object', name='Genre')"
      ]
     },
     "execution_count": 147,
     "metadata": {},
     "output_type": "execute_result"
    }
   ],
   "source": [
    "dfGP.columns"
   ]
  },
  {
   "cell_type": "code",
   "execution_count": 171,
   "id": "7856994d",
   "metadata": {},
   "outputs": [],
   "source": [
    "dfGP_Top10 = dfGP.sort_values(by='Total', ascending= False).head(10)"
   ]
  },
  {
   "cell_type": "code",
   "execution_count": 172,
   "id": "36e938d0",
   "metadata": {},
   "outputs": [
    {
     "data": {
      "text/html": [
       "<div>\n",
       "<style scoped>\n",
       "    .dataframe tbody tr th:only-of-type {\n",
       "        vertical-align: middle;\n",
       "    }\n",
       "\n",
       "    .dataframe tbody tr th {\n",
       "        vertical-align: top;\n",
       "    }\n",
       "\n",
       "    .dataframe thead th {\n",
       "        text-align: right;\n",
       "    }\n",
       "</style>\n",
       "<table border=\"1\" class=\"dataframe\">\n",
       "  <thead>\n",
       "    <tr style=\"text-align: right;\">\n",
       "      <th>Genre</th>\n",
       "      <th>Action</th>\n",
       "      <th>Adventure</th>\n",
       "      <th>Fighting</th>\n",
       "      <th>Misc</th>\n",
       "      <th>Platform</th>\n",
       "      <th>Puzzle</th>\n",
       "      <th>Racing</th>\n",
       "      <th>Role-Playing</th>\n",
       "      <th>Shooter</th>\n",
       "      <th>Simulation</th>\n",
       "      <th>Sports</th>\n",
       "      <th>Strategy</th>\n",
       "      <th>Total</th>\n",
       "    </tr>\n",
       "    <tr>\n",
       "      <th>Platform</th>\n",
       "      <th></th>\n",
       "      <th></th>\n",
       "      <th></th>\n",
       "      <th></th>\n",
       "      <th></th>\n",
       "      <th></th>\n",
       "      <th></th>\n",
       "      <th></th>\n",
       "      <th></th>\n",
       "      <th></th>\n",
       "      <th></th>\n",
       "      <th></th>\n",
       "      <th></th>\n",
       "    </tr>\n",
       "  </thead>\n",
       "  <tbody>\n",
       "    <tr>\n",
       "      <th>DS</th>\n",
       "      <td>343</td>\n",
       "      <td>240</td>\n",
       "      <td>36</td>\n",
       "      <td>393</td>\n",
       "      <td>92</td>\n",
       "      <td>238</td>\n",
       "      <td>67</td>\n",
       "      <td>200</td>\n",
       "      <td>42</td>\n",
       "      <td>285</td>\n",
       "      <td>148</td>\n",
       "      <td>79</td>\n",
       "      <td>2163</td>\n",
       "    </tr>\n",
       "    <tr>\n",
       "      <th>PS2</th>\n",
       "      <td>348</td>\n",
       "      <td>196</td>\n",
       "      <td>150</td>\n",
       "      <td>222</td>\n",
       "      <td>103</td>\n",
       "      <td>18</td>\n",
       "      <td>216</td>\n",
       "      <td>187</td>\n",
       "      <td>160</td>\n",
       "      <td>90</td>\n",
       "      <td>400</td>\n",
       "      <td>71</td>\n",
       "      <td>2161</td>\n",
       "    </tr>\n",
       "    <tr>\n",
       "      <th>PS3</th>\n",
       "      <td>380</td>\n",
       "      <td>74</td>\n",
       "      <td>76</td>\n",
       "      <td>124</td>\n",
       "      <td>37</td>\n",
       "      <td>3</td>\n",
       "      <td>92</td>\n",
       "      <td>119</td>\n",
       "      <td>156</td>\n",
       "      <td>31</td>\n",
       "      <td>213</td>\n",
       "      <td>24</td>\n",
       "      <td>1329</td>\n",
       "    </tr>\n",
       "    <tr>\n",
       "      <th>Wii</th>\n",
       "      <td>238</td>\n",
       "      <td>84</td>\n",
       "      <td>42</td>\n",
       "      <td>280</td>\n",
       "      <td>58</td>\n",
       "      <td>55</td>\n",
       "      <td>94</td>\n",
       "      <td>35</td>\n",
       "      <td>66</td>\n",
       "      <td>87</td>\n",
       "      <td>261</td>\n",
       "      <td>25</td>\n",
       "      <td>1325</td>\n",
       "    </tr>\n",
       "    <tr>\n",
       "      <th>X360</th>\n",
       "      <td>324</td>\n",
       "      <td>47</td>\n",
       "      <td>65</td>\n",
       "      <td>126</td>\n",
       "      <td>24</td>\n",
       "      <td>7</td>\n",
       "      <td>105</td>\n",
       "      <td>76</td>\n",
       "      <td>203</td>\n",
       "      <td>40</td>\n",
       "      <td>220</td>\n",
       "      <td>28</td>\n",
       "      <td>1265</td>\n",
       "    </tr>\n",
       "    <tr>\n",
       "      <th>PSP</th>\n",
       "      <td>222</td>\n",
       "      <td>213</td>\n",
       "      <td>74</td>\n",
       "      <td>106</td>\n",
       "      <td>36</td>\n",
       "      <td>44</td>\n",
       "      <td>65</td>\n",
       "      <td>192</td>\n",
       "      <td>37</td>\n",
       "      <td>29</td>\n",
       "      <td>135</td>\n",
       "      <td>60</td>\n",
       "      <td>1213</td>\n",
       "    </tr>\n",
       "    <tr>\n",
       "      <th>PS</th>\n",
       "      <td>157</td>\n",
       "      <td>69</td>\n",
       "      <td>108</td>\n",
       "      <td>76</td>\n",
       "      <td>64</td>\n",
       "      <td>32</td>\n",
       "      <td>145</td>\n",
       "      <td>97</td>\n",
       "      <td>96</td>\n",
       "      <td>60</td>\n",
       "      <td>222</td>\n",
       "      <td>70</td>\n",
       "      <td>1196</td>\n",
       "    </tr>\n",
       "    <tr>\n",
       "      <th>PC</th>\n",
       "      <td>165</td>\n",
       "      <td>65</td>\n",
       "      <td>6</td>\n",
       "      <td>24</td>\n",
       "      <td>11</td>\n",
       "      <td>25</td>\n",
       "      <td>60</td>\n",
       "      <td>104</td>\n",
       "      <td>148</td>\n",
       "      <td>115</td>\n",
       "      <td>49</td>\n",
       "      <td>188</td>\n",
       "      <td>960</td>\n",
       "    </tr>\n",
       "    <tr>\n",
       "      <th>XB</th>\n",
       "      <td>155</td>\n",
       "      <td>26</td>\n",
       "      <td>48</td>\n",
       "      <td>46</td>\n",
       "      <td>49</td>\n",
       "      <td>7</td>\n",
       "      <td>123</td>\n",
       "      <td>23</td>\n",
       "      <td>132</td>\n",
       "      <td>24</td>\n",
       "      <td>170</td>\n",
       "      <td>21</td>\n",
       "      <td>824</td>\n",
       "    </tr>\n",
       "    <tr>\n",
       "      <th>GBA</th>\n",
       "      <td>167</td>\n",
       "      <td>38</td>\n",
       "      <td>23</td>\n",
       "      <td>110</td>\n",
       "      <td>142</td>\n",
       "      <td>41</td>\n",
       "      <td>64</td>\n",
       "      <td>73</td>\n",
       "      <td>40</td>\n",
       "      <td>18</td>\n",
       "      <td>88</td>\n",
       "      <td>18</td>\n",
       "      <td>822</td>\n",
       "    </tr>\n",
       "  </tbody>\n",
       "</table>\n",
       "</div>"
      ],
      "text/plain": [
       "Genre     Action  Adventure  Fighting  Misc  Platform  Puzzle  Racing  \\\n",
       "Platform                                                                \n",
       "DS           343        240        36   393        92     238      67   \n",
       "PS2          348        196       150   222       103      18     216   \n",
       "PS3          380         74        76   124        37       3      92   \n",
       "Wii          238         84        42   280        58      55      94   \n",
       "X360         324         47        65   126        24       7     105   \n",
       "PSP          222        213        74   106        36      44      65   \n",
       "PS           157         69       108    76        64      32     145   \n",
       "PC           165         65         6    24        11      25      60   \n",
       "XB           155         26        48    46        49       7     123   \n",
       "GBA          167         38        23   110       142      41      64   \n",
       "\n",
       "Genre     Role-Playing  Shooter  Simulation  Sports  Strategy  Total  \n",
       "Platform                                                              \n",
       "DS                 200       42         285     148        79   2163  \n",
       "PS2                187      160          90     400        71   2161  \n",
       "PS3                119      156          31     213        24   1329  \n",
       "Wii                 35       66          87     261        25   1325  \n",
       "X360                76      203          40     220        28   1265  \n",
       "PSP                192       37          29     135        60   1213  \n",
       "PS                  97       96          60     222        70   1196  \n",
       "PC                 104      148         115      49       188    960  \n",
       "XB                  23      132          24     170        21    824  \n",
       "GBA                 73       40          18      88        18    822  "
      ]
     },
     "execution_count": 172,
     "metadata": {},
     "output_type": "execute_result"
    }
   ],
   "source": [
    "dfGP_Top10"
   ]
  },
  {
   "cell_type": "code",
   "execution_count": 152,
   "id": "099e3a39",
   "metadata": {},
   "outputs": [],
   "source": [
    "total_genres = pd.Series()"
   ]
  },
  {
   "cell_type": "code",
   "execution_count": 153,
   "id": "e53c18cb",
   "metadata": {},
   "outputs": [],
   "source": [
    "for i in dfGP.columns:\n",
    "    total_genres[i] = dfGP[i].sum()"
   ]
  },
  {
   "cell_type": "code",
   "execution_count": 154,
   "id": "798d0f5c",
   "metadata": {},
   "outputs": [
    {
     "data": {
      "text/plain": [
       "Action           3316\n",
       "Adventure        1286\n",
       "Fighting          848\n",
       "Misc             1739\n",
       "Platform          886\n",
       "Puzzle            582\n",
       "Racing           1249\n",
       "Role-Playing     1488\n",
       "Shooter          1310\n",
       "Simulation        867\n",
       "Sports           2346\n",
       "Strategy          681\n",
       "Total           16598\n",
       "dtype: int64"
      ]
     },
     "execution_count": 154,
     "metadata": {},
     "output_type": "execute_result"
    }
   ],
   "source": [
    "total_genres"
   ]
  },
  {
   "cell_type": "code",
   "execution_count": 161,
   "id": "499b13b3",
   "metadata": {},
   "outputs": [
    {
     "data": {
      "text/html": [
       "<div>\n",
       "<style scoped>\n",
       "    .dataframe tbody tr th:only-of-type {\n",
       "        vertical-align: middle;\n",
       "    }\n",
       "\n",
       "    .dataframe tbody tr th {\n",
       "        vertical-align: top;\n",
       "    }\n",
       "\n",
       "    .dataframe thead th {\n",
       "        text-align: right;\n",
       "    }\n",
       "</style>\n",
       "<table border=\"1\" class=\"dataframe\">\n",
       "  <thead>\n",
       "    <tr style=\"text-align: right;\">\n",
       "      <th></th>\n",
       "      <th>Action</th>\n",
       "      <th>Adventure</th>\n",
       "      <th>Fighting</th>\n",
       "      <th>Misc</th>\n",
       "      <th>Platform</th>\n",
       "      <th>Puzzle</th>\n",
       "      <th>Racing</th>\n",
       "      <th>Role-Playing</th>\n",
       "      <th>Shooter</th>\n",
       "      <th>Simulation</th>\n",
       "      <th>Sports</th>\n",
       "      <th>Strategy</th>\n",
       "      <th>Total</th>\n",
       "    </tr>\n",
       "  </thead>\n",
       "  <tbody>\n",
       "    <tr>\n",
       "      <th>Total</th>\n",
       "      <td>3316</td>\n",
       "      <td>1286</td>\n",
       "      <td>848</td>\n",
       "      <td>1739</td>\n",
       "      <td>886</td>\n",
       "      <td>582</td>\n",
       "      <td>1249</td>\n",
       "      <td>1488</td>\n",
       "      <td>1310</td>\n",
       "      <td>867</td>\n",
       "      <td>2346</td>\n",
       "      <td>681</td>\n",
       "      <td>16598</td>\n",
       "    </tr>\n",
       "  </tbody>\n",
       "</table>\n",
       "</div>"
      ],
      "text/plain": [
       "       Action  Adventure  Fighting  Misc  Platform  Puzzle  Racing  \\\n",
       "Total    3316       1286       848  1739       886     582    1249   \n",
       "\n",
       "       Role-Playing  Shooter  Simulation  Sports  Strategy  Total  \n",
       "Total          1488     1310         867    2346       681  16598  "
      ]
     },
     "execution_count": 161,
     "metadata": {},
     "output_type": "execute_result"
    }
   ],
   "source": [
    "pd.DataFrame(total_genres).transpose().rename({0:'Total'})"
   ]
  },
  {
   "cell_type": "code",
   "execution_count": 173,
   "id": "cbf8ae2d",
   "metadata": {},
   "outputs": [],
   "source": [
    "dfGP_Top10 = pd.concat([dfGP_Top10,pd.DataFrame(total_genres).transpose().rename({0:'Total_Genres'})])"
   ]
  },
  {
   "cell_type": "code",
   "execution_count": 174,
   "id": "0cc6feae",
   "metadata": {},
   "outputs": [
    {
     "data": {
      "text/html": [
       "<div>\n",
       "<style scoped>\n",
       "    .dataframe tbody tr th:only-of-type {\n",
       "        vertical-align: middle;\n",
       "    }\n",
       "\n",
       "    .dataframe tbody tr th {\n",
       "        vertical-align: top;\n",
       "    }\n",
       "\n",
       "    .dataframe thead th {\n",
       "        text-align: right;\n",
       "    }\n",
       "</style>\n",
       "<table border=\"1\" class=\"dataframe\">\n",
       "  <thead>\n",
       "    <tr style=\"text-align: right;\">\n",
       "      <th></th>\n",
       "      <th>Action</th>\n",
       "      <th>Adventure</th>\n",
       "      <th>Fighting</th>\n",
       "      <th>Misc</th>\n",
       "      <th>Platform</th>\n",
       "      <th>Puzzle</th>\n",
       "      <th>Racing</th>\n",
       "      <th>Role-Playing</th>\n",
       "      <th>Shooter</th>\n",
       "      <th>Simulation</th>\n",
       "      <th>Sports</th>\n",
       "      <th>Strategy</th>\n",
       "      <th>Total</th>\n",
       "    </tr>\n",
       "  </thead>\n",
       "  <tbody>\n",
       "    <tr>\n",
       "      <th>DS</th>\n",
       "      <td>343</td>\n",
       "      <td>240</td>\n",
       "      <td>36</td>\n",
       "      <td>393</td>\n",
       "      <td>92</td>\n",
       "      <td>238</td>\n",
       "      <td>67</td>\n",
       "      <td>200</td>\n",
       "      <td>42</td>\n",
       "      <td>285</td>\n",
       "      <td>148</td>\n",
       "      <td>79</td>\n",
       "      <td>2163</td>\n",
       "    </tr>\n",
       "    <tr>\n",
       "      <th>PS2</th>\n",
       "      <td>348</td>\n",
       "      <td>196</td>\n",
       "      <td>150</td>\n",
       "      <td>222</td>\n",
       "      <td>103</td>\n",
       "      <td>18</td>\n",
       "      <td>216</td>\n",
       "      <td>187</td>\n",
       "      <td>160</td>\n",
       "      <td>90</td>\n",
       "      <td>400</td>\n",
       "      <td>71</td>\n",
       "      <td>2161</td>\n",
       "    </tr>\n",
       "    <tr>\n",
       "      <th>PS3</th>\n",
       "      <td>380</td>\n",
       "      <td>74</td>\n",
       "      <td>76</td>\n",
       "      <td>124</td>\n",
       "      <td>37</td>\n",
       "      <td>3</td>\n",
       "      <td>92</td>\n",
       "      <td>119</td>\n",
       "      <td>156</td>\n",
       "      <td>31</td>\n",
       "      <td>213</td>\n",
       "      <td>24</td>\n",
       "      <td>1329</td>\n",
       "    </tr>\n",
       "    <tr>\n",
       "      <th>Wii</th>\n",
       "      <td>238</td>\n",
       "      <td>84</td>\n",
       "      <td>42</td>\n",
       "      <td>280</td>\n",
       "      <td>58</td>\n",
       "      <td>55</td>\n",
       "      <td>94</td>\n",
       "      <td>35</td>\n",
       "      <td>66</td>\n",
       "      <td>87</td>\n",
       "      <td>261</td>\n",
       "      <td>25</td>\n",
       "      <td>1325</td>\n",
       "    </tr>\n",
       "    <tr>\n",
       "      <th>X360</th>\n",
       "      <td>324</td>\n",
       "      <td>47</td>\n",
       "      <td>65</td>\n",
       "      <td>126</td>\n",
       "      <td>24</td>\n",
       "      <td>7</td>\n",
       "      <td>105</td>\n",
       "      <td>76</td>\n",
       "      <td>203</td>\n",
       "      <td>40</td>\n",
       "      <td>220</td>\n",
       "      <td>28</td>\n",
       "      <td>1265</td>\n",
       "    </tr>\n",
       "    <tr>\n",
       "      <th>PSP</th>\n",
       "      <td>222</td>\n",
       "      <td>213</td>\n",
       "      <td>74</td>\n",
       "      <td>106</td>\n",
       "      <td>36</td>\n",
       "      <td>44</td>\n",
       "      <td>65</td>\n",
       "      <td>192</td>\n",
       "      <td>37</td>\n",
       "      <td>29</td>\n",
       "      <td>135</td>\n",
       "      <td>60</td>\n",
       "      <td>1213</td>\n",
       "    </tr>\n",
       "    <tr>\n",
       "      <th>PS</th>\n",
       "      <td>157</td>\n",
       "      <td>69</td>\n",
       "      <td>108</td>\n",
       "      <td>76</td>\n",
       "      <td>64</td>\n",
       "      <td>32</td>\n",
       "      <td>145</td>\n",
       "      <td>97</td>\n",
       "      <td>96</td>\n",
       "      <td>60</td>\n",
       "      <td>222</td>\n",
       "      <td>70</td>\n",
       "      <td>1196</td>\n",
       "    </tr>\n",
       "    <tr>\n",
       "      <th>PC</th>\n",
       "      <td>165</td>\n",
       "      <td>65</td>\n",
       "      <td>6</td>\n",
       "      <td>24</td>\n",
       "      <td>11</td>\n",
       "      <td>25</td>\n",
       "      <td>60</td>\n",
       "      <td>104</td>\n",
       "      <td>148</td>\n",
       "      <td>115</td>\n",
       "      <td>49</td>\n",
       "      <td>188</td>\n",
       "      <td>960</td>\n",
       "    </tr>\n",
       "    <tr>\n",
       "      <th>XB</th>\n",
       "      <td>155</td>\n",
       "      <td>26</td>\n",
       "      <td>48</td>\n",
       "      <td>46</td>\n",
       "      <td>49</td>\n",
       "      <td>7</td>\n",
       "      <td>123</td>\n",
       "      <td>23</td>\n",
       "      <td>132</td>\n",
       "      <td>24</td>\n",
       "      <td>170</td>\n",
       "      <td>21</td>\n",
       "      <td>824</td>\n",
       "    </tr>\n",
       "    <tr>\n",
       "      <th>GBA</th>\n",
       "      <td>167</td>\n",
       "      <td>38</td>\n",
       "      <td>23</td>\n",
       "      <td>110</td>\n",
       "      <td>142</td>\n",
       "      <td>41</td>\n",
       "      <td>64</td>\n",
       "      <td>73</td>\n",
       "      <td>40</td>\n",
       "      <td>18</td>\n",
       "      <td>88</td>\n",
       "      <td>18</td>\n",
       "      <td>822</td>\n",
       "    </tr>\n",
       "    <tr>\n",
       "      <th>Total_Genres</th>\n",
       "      <td>3316</td>\n",
       "      <td>1286</td>\n",
       "      <td>848</td>\n",
       "      <td>1739</td>\n",
       "      <td>886</td>\n",
       "      <td>582</td>\n",
       "      <td>1249</td>\n",
       "      <td>1488</td>\n",
       "      <td>1310</td>\n",
       "      <td>867</td>\n",
       "      <td>2346</td>\n",
       "      <td>681</td>\n",
       "      <td>16598</td>\n",
       "    </tr>\n",
       "  </tbody>\n",
       "</table>\n",
       "</div>"
      ],
      "text/plain": [
       "              Action  Adventure  Fighting  Misc  Platform  Puzzle  Racing  \\\n",
       "DS               343        240        36   393        92     238      67   \n",
       "PS2              348        196       150   222       103      18     216   \n",
       "PS3              380         74        76   124        37       3      92   \n",
       "Wii              238         84        42   280        58      55      94   \n",
       "X360             324         47        65   126        24       7     105   \n",
       "PSP              222        213        74   106        36      44      65   \n",
       "PS               157         69       108    76        64      32     145   \n",
       "PC               165         65         6    24        11      25      60   \n",
       "XB               155         26        48    46        49       7     123   \n",
       "GBA              167         38        23   110       142      41      64   \n",
       "Total_Genres    3316       1286       848  1739       886     582    1249   \n",
       "\n",
       "              Role-Playing  Shooter  Simulation  Sports  Strategy  Total  \n",
       "DS                     200       42         285     148        79   2163  \n",
       "PS2                    187      160          90     400        71   2161  \n",
       "PS3                    119      156          31     213        24   1329  \n",
       "Wii                     35       66          87     261        25   1325  \n",
       "X360                    76      203          40     220        28   1265  \n",
       "PSP                    192       37          29     135        60   1213  \n",
       "PS                      97       96          60     222        70   1196  \n",
       "PC                     104      148         115      49       188    960  \n",
       "XB                      23      132          24     170        21    824  \n",
       "GBA                     73       40          18      88        18    822  \n",
       "Total_Genres          1488     1310         867    2346       681  16598  "
      ]
     },
     "execution_count": 174,
     "metadata": {},
     "output_type": "execute_result"
    }
   ],
   "source": [
    "dfGP_Top10"
   ]
  },
  {
   "cell_type": "code",
   "execution_count": 188,
   "id": "e997f921",
   "metadata": {},
   "outputs": [
    {
     "data": {
      "text/plain": [
       "Text(0.5, 77.24999999999999, 'Genres')"
      ]
     },
     "execution_count": 188,
     "metadata": {},
     "output_type": "execute_result"
    },
    {
     "data": {
      "image/png": "[encoded data removed]",
      "text/plain": [
       "<Figure size 2000x1000 with 2 Axes>"
      ]
     },
     "metadata": {},
     "output_type": "display_data"
    }
   ],
   "source": [
    "plt.figure(figsize=(20,10))\n",
    "sns.heatmap(dfGP_Top10,\n",
    "           cmap='Purples',\n",
    "           annot= True,\n",
    "           fmt= 'd',\n",
    "           vmax=500,\n",
    "           vmin = 0)\n",
    "plt.yticks(rotation = 0)\n",
    "plt.ylabel('Consoles')\n",
    "plt.xlabel('Genres')"
   ]
  },
  {
   "cell_type": "markdown",
   "id": "7c4933f1",
   "metadata": {},
   "source": [
    "## Analysing the heat map, we see that games with the genres of Action, Sports, Misc and RPG have grater success (seeing the amount of realesed games) than other genres, which explain why franchises like Call of Duty, GTA, Fifa, Nba, Just dance and Final Fantasy does so much success with the users. Also, we can see that Nintendo (Wii, and DS), Sony (PS, PS2, PS3 ans PSP) and Microsoft (X360 and PC) took over the gaming market as the most played platform (due the demand over released games to those platforms)"
   ]
  },
  {
   "cell_type": "markdown",
   "id": "400ae62f",
   "metadata": {},
   "source": [
    "# Analysing Publisher with more sales"
   ]
  },
  {
   "cell_type": "code",
   "execution_count": 200,
   "id": "19cc845e",
   "metadata": {},
   "outputs": [
    {
     "data": {
      "text/html": [
       "<div>\n",
       "<style scoped>\n",
       "    .dataframe tbody tr th:only-of-type {\n",
       "        vertical-align: middle;\n",
       "    }\n",
       "\n",
       "    .dataframe tbody tr th {\n",
       "        vertical-align: top;\n",
       "    }\n",
       "\n",
       "    .dataframe thead th {\n",
       "        text-align: right;\n",
       "    }\n",
       "</style>\n",
       "<table border=\"1\" class=\"dataframe\">\n",
       "  <thead>\n",
       "    <tr style=\"text-align: right;\">\n",
       "      <th></th>\n",
       "      <th>Rank</th>\n",
       "      <th>Name</th>\n",
       "      <th>Platform</th>\n",
       "      <th>Year</th>\n",
       "      <th>Genre</th>\n",
       "      <th>Publisher</th>\n",
       "      <th>NA_Sales</th>\n",
       "      <th>EU_Sales</th>\n",
       "      <th>JP_Sales</th>\n",
       "      <th>Other_Sales</th>\n",
       "      <th>Global_Sales</th>\n",
       "    </tr>\n",
       "  </thead>\n",
       "  <tbody>\n",
       "    <tr>\n",
       "      <th>0</th>\n",
       "      <td>1</td>\n",
       "      <td>Wii Sports</td>\n",
       "      <td>Wii</td>\n",
       "      <td>2006</td>\n",
       "      <td>Sports</td>\n",
       "      <td>Nintendo</td>\n",
       "      <td>41.49</td>\n",
       "      <td>29.02</td>\n",
       "      <td>3.77</td>\n",
       "      <td>8.46</td>\n",
       "      <td>82.74</td>\n",
       "    </tr>\n",
       "    <tr>\n",
       "      <th>1</th>\n",
       "      <td>2</td>\n",
       "      <td>Super Mario Bros.</td>\n",
       "      <td>NES</td>\n",
       "      <td>1985</td>\n",
       "      <td>Platform</td>\n",
       "      <td>Nintendo</td>\n",
       "      <td>29.08</td>\n",
       "      <td>3.58</td>\n",
       "      <td>6.81</td>\n",
       "      <td>0.77</td>\n",
       "      <td>40.24</td>\n",
       "    </tr>\n",
       "    <tr>\n",
       "      <th>2</th>\n",
       "      <td>3</td>\n",
       "      <td>Mario Kart Wii</td>\n",
       "      <td>Wii</td>\n",
       "      <td>2008</td>\n",
       "      <td>Racing</td>\n",
       "      <td>Nintendo</td>\n",
       "      <td>15.85</td>\n",
       "      <td>12.88</td>\n",
       "      <td>3.79</td>\n",
       "      <td>3.31</td>\n",
       "      <td>35.82</td>\n",
       "    </tr>\n",
       "    <tr>\n",
       "      <th>3</th>\n",
       "      <td>4</td>\n",
       "      <td>Wii Sports Resort</td>\n",
       "      <td>Wii</td>\n",
       "      <td>2009</td>\n",
       "      <td>Sports</td>\n",
       "      <td>Nintendo</td>\n",
       "      <td>15.75</td>\n",
       "      <td>11.01</td>\n",
       "      <td>3.28</td>\n",
       "      <td>2.96</td>\n",
       "      <td>33.00</td>\n",
       "    </tr>\n",
       "    <tr>\n",
       "      <th>4</th>\n",
       "      <td>5</td>\n",
       "      <td>Pokemon Red/Pokemon Blue</td>\n",
       "      <td>GB</td>\n",
       "      <td>1996</td>\n",
       "      <td>Role-Playing</td>\n",
       "      <td>Nintendo</td>\n",
       "      <td>11.27</td>\n",
       "      <td>8.89</td>\n",
       "      <td>10.22</td>\n",
       "      <td>1.00</td>\n",
       "      <td>31.37</td>\n",
       "    </tr>\n",
       "    <tr>\n",
       "      <th>...</th>\n",
       "      <td>...</td>\n",
       "      <td>...</td>\n",
       "      <td>...</td>\n",
       "      <td>...</td>\n",
       "      <td>...</td>\n",
       "      <td>...</td>\n",
       "      <td>...</td>\n",
       "      <td>...</td>\n",
       "      <td>...</td>\n",
       "      <td>...</td>\n",
       "      <td>...</td>\n",
       "    </tr>\n",
       "    <tr>\n",
       "      <th>16593</th>\n",
       "      <td>16596</td>\n",
       "      <td>Woody Woodpecker in Crazy Castle 5</td>\n",
       "      <td>GBA</td>\n",
       "      <td>2002</td>\n",
       "      <td>Platform</td>\n",
       "      <td>Kemco</td>\n",
       "      <td>0.01</td>\n",
       "      <td>0.00</td>\n",
       "      <td>0.00</td>\n",
       "      <td>0.00</td>\n",
       "      <td>0.01</td>\n",
       "    </tr>\n",
       "    <tr>\n",
       "      <th>16594</th>\n",
       "      <td>16597</td>\n",
       "      <td>Men in Black II: Alien Escape</td>\n",
       "      <td>GC</td>\n",
       "      <td>2003</td>\n",
       "      <td>Shooter</td>\n",
       "      <td>Infogrames</td>\n",
       "      <td>0.01</td>\n",
       "      <td>0.00</td>\n",
       "      <td>0.00</td>\n",
       "      <td>0.00</td>\n",
       "      <td>0.01</td>\n",
       "    </tr>\n",
       "    <tr>\n",
       "      <th>16595</th>\n",
       "      <td>16598</td>\n",
       "      <td>SCORE International Baja 1000: The Official Game</td>\n",
       "      <td>PS2</td>\n",
       "      <td>2008</td>\n",
       "      <td>Racing</td>\n",
       "      <td>Activision</td>\n",
       "      <td>0.00</td>\n",
       "      <td>0.00</td>\n",
       "      <td>0.00</td>\n",
       "      <td>0.00</td>\n",
       "      <td>0.01</td>\n",
       "    </tr>\n",
       "    <tr>\n",
       "      <th>16596</th>\n",
       "      <td>16599</td>\n",
       "      <td>Know How 2</td>\n",
       "      <td>DS</td>\n",
       "      <td>2010</td>\n",
       "      <td>Puzzle</td>\n",
       "      <td>7G//AMES</td>\n",
       "      <td>0.00</td>\n",
       "      <td>0.01</td>\n",
       "      <td>0.00</td>\n",
       "      <td>0.00</td>\n",
       "      <td>0.01</td>\n",
       "    </tr>\n",
       "    <tr>\n",
       "      <th>16597</th>\n",
       "      <td>16600</td>\n",
       "      <td>Spirits &amp; Spells</td>\n",
       "      <td>GBA</td>\n",
       "      <td>2003</td>\n",
       "      <td>Platform</td>\n",
       "      <td>Wanadoo</td>\n",
       "      <td>0.01</td>\n",
       "      <td>0.00</td>\n",
       "      <td>0.00</td>\n",
       "      <td>0.00</td>\n",
       "      <td>0.01</td>\n",
       "    </tr>\n",
       "  </tbody>\n",
       "</table>\n",
       "<p>16598 rows × 11 columns</p>\n",
       "</div>"
      ],
      "text/plain": [
       "        Rank                                              Name Platform  Year  \\\n",
       "0          1                                        Wii Sports      Wii  2006   \n",
       "1          2                                 Super Mario Bros.      NES  1985   \n",
       "2          3                                    Mario Kart Wii      Wii  2008   \n",
       "3          4                                 Wii Sports Resort      Wii  2009   \n",
       "4          5                          Pokemon Red/Pokemon Blue       GB  1996   \n",
       "...      ...                                               ...      ...   ...   \n",
       "16593  16596                Woody Woodpecker in Crazy Castle 5      GBA  2002   \n",
       "16594  16597                     Men in Black II: Alien Escape       GC  2003   \n",
       "16595  16598  SCORE International Baja 1000: The Official Game      PS2  2008   \n",
       "16596  16599                                        Know How 2       DS  2010   \n",
       "16597  16600                                  Spirits & Spells      GBA  2003   \n",
       "\n",
       "              Genre   Publisher  NA_Sales  EU_Sales  JP_Sales  Other_Sales  \\\n",
       "0            Sports    Nintendo     41.49     29.02      3.77         8.46   \n",
       "1          Platform    Nintendo     29.08      3.58      6.81         0.77   \n",
       "2            Racing    Nintendo     15.85     12.88      3.79         3.31   \n",
       "3            Sports    Nintendo     15.75     11.01      3.28         2.96   \n",
       "4      Role-Playing    Nintendo     11.27      8.89     10.22         1.00   \n",
       "...             ...         ...       ...       ...       ...          ...   \n",
       "16593      Platform       Kemco      0.01      0.00      0.00         0.00   \n",
       "16594       Shooter  Infogrames      0.01      0.00      0.00         0.00   \n",
       "16595        Racing  Activision      0.00      0.00      0.00         0.00   \n",
       "16596        Puzzle    7G//AMES      0.00      0.01      0.00         0.00   \n",
       "16597      Platform     Wanadoo      0.01      0.00      0.00         0.00   \n",
       "\n",
       "       Global_Sales  \n",
       "0             82.74  \n",
       "1             40.24  \n",
       "2             35.82  \n",
       "3             33.00  \n",
       "4             31.37  \n",
       "...             ...  \n",
       "16593          0.01  \n",
       "16594          0.01  \n",
       "16595          0.01  \n",
       "16596          0.01  \n",
       "16597          0.01  \n",
       "\n",
       "[16598 rows x 11 columns]"
      ]
     },
     "execution_count": 200,
     "metadata": {},
     "output_type": "execute_result"
    }
   ],
   "source": [
    "df"
   ]
  },
  {
   "cell_type": "code",
   "execution_count": 264,
   "id": "0aaf0372",
   "metadata": {},
   "outputs": [],
   "source": [
    "df_Publisher = df.groupby('Publisher')[['Global_Sales']].agg({'Global_Sales': 'sum'}).reset_index().sort_values(by = 'Global_Sales', ascending = False).head(10)"
   ]
  },
  {
   "cell_type": "code",
   "execution_count": 265,
   "id": "0caf3fc9",
   "metadata": {},
   "outputs": [
    {
     "data": {
      "text/html": [
       "<div>\n",
       "<style scoped>\n",
       "    .dataframe tbody tr th:only-of-type {\n",
       "        vertical-align: middle;\n",
       "    }\n",
       "\n",
       "    .dataframe tbody tr th {\n",
       "        vertical-align: top;\n",
       "    }\n",
       "\n",
       "    .dataframe thead th {\n",
       "        text-align: right;\n",
       "    }\n",
       "</style>\n",
       "<table border=\"1\" class=\"dataframe\">\n",
       "  <thead>\n",
       "    <tr style=\"text-align: right;\">\n",
       "      <th></th>\n",
       "      <th>Publisher</th>\n",
       "      <th>Global_Sales</th>\n",
       "    </tr>\n",
       "  </thead>\n",
       "  <tbody>\n",
       "    <tr>\n",
       "      <th>359</th>\n",
       "      <td>Nintendo</td>\n",
       "      <td>1786.56</td>\n",
       "    </tr>\n",
       "    <tr>\n",
       "      <th>138</th>\n",
       "      <td>Electronic Arts</td>\n",
       "      <td>1110.32</td>\n",
       "    </tr>\n",
       "    <tr>\n",
       "      <th>21</th>\n",
       "      <td>Activision</td>\n",
       "      <td>727.46</td>\n",
       "    </tr>\n",
       "    <tr>\n",
       "      <th>456</th>\n",
       "      <td>Sony Computer Entertainment</td>\n",
       "      <td>607.50</td>\n",
       "    </tr>\n",
       "    <tr>\n",
       "      <th>525</th>\n",
       "      <td>Ubisoft</td>\n",
       "      <td>474.72</td>\n",
       "    </tr>\n",
       "    <tr>\n",
       "      <th>494</th>\n",
       "      <td>Take-Two Interactive</td>\n",
       "      <td>399.54</td>\n",
       "    </tr>\n",
       "    <tr>\n",
       "      <th>488</th>\n",
       "      <td>THQ</td>\n",
       "      <td>340.77</td>\n",
       "    </tr>\n",
       "    <tr>\n",
       "      <th>275</th>\n",
       "      <td>Konami Digital Entertainment</td>\n",
       "      <td>283.64</td>\n",
       "    </tr>\n",
       "    <tr>\n",
       "      <th>446</th>\n",
       "      <td>Sega</td>\n",
       "      <td>272.99</td>\n",
       "    </tr>\n",
       "    <tr>\n",
       "      <th>347</th>\n",
       "      <td>Namco Bandai Games</td>\n",
       "      <td>254.09</td>\n",
       "    </tr>\n",
       "  </tbody>\n",
       "</table>\n",
       "</div>"
      ],
      "text/plain": [
       "                        Publisher  Global_Sales\n",
       "359                      Nintendo       1786.56\n",
       "138               Electronic Arts       1110.32\n",
       "21                     Activision        727.46\n",
       "456   Sony Computer Entertainment        607.50\n",
       "525                       Ubisoft        474.72\n",
       "494          Take-Two Interactive        399.54\n",
       "488                           THQ        340.77\n",
       "275  Konami Digital Entertainment        283.64\n",
       "446                          Sega        272.99\n",
       "347            Namco Bandai Games        254.09"
      ]
     },
     "execution_count": 265,
     "metadata": {},
     "output_type": "execute_result"
    }
   ],
   "source": [
    "df_Publisher"
   ]
  },
  {
   "cell_type": "code",
   "execution_count": 266,
   "id": "715acc83",
   "metadata": {},
   "outputs": [
    {
     "data": {
      "image/png": "[encoded data removed]",
      "text/plain": [
       "<Figure size 2000x1000 with 1 Axes>"
      ]
     },
     "metadata": {},
     "output_type": "display_data"
    }
   ],
   "source": [
    "plt.figure(figsize=(20,10))\n",
    "sns.barplot(x= df_Publisher['Publisher'],\n",
    "            y= df_Publisher['Global_Sales'],\n",
    "           dodge= False)\n",
    "plt.yticks(rotation = 0)\n",
    "plt.ylabel(\"Global Sales (millions of copies)\")\n",
    "plt.xlabel('Publisher')\n",
    "plt.show()"
   ]
  },
  {
   "cell_type": "markdown",
   "id": "9230c813",
   "metadata": {},
   "source": [
    "## We can see clearly that Nintendo holds the grater number of selled copies, considering. Then, we see that Eletronic Arts, Activision and Sony Computer Entertaiment were the ones that selled most copies."
   ]
  },
  {
   "cell_type": "markdown",
   "id": "0519bc5a",
   "metadata": {},
   "source": [
    "# Publisher Top 5 sales per Platform "
   ]
  },
  {
   "cell_type": "code",
   "execution_count": 232,
   "id": "ec3e065f",
   "metadata": {},
   "outputs": [],
   "source": [
    "df_PubPlat = df[(df['Publisher'] == 'Nintendo') | (df['Publisher'] == 'Electronic Arts') | (df['Publisher'] == 'Activision') | (df['Publisher'] == 'Sony Computer Entertainment')]"
   ]
  },
  {
   "cell_type": "code",
   "execution_count": 271,
   "id": "b702626d",
   "metadata": {},
   "outputs": [],
   "source": [
    "df_PubPlat10 = df_PubPlat.groupby(['Publisher', 'Platform'])['Global_Sales'].sum().reset_index().groupby('Publisher').apply(lambda x: x.nlargest(5, 'Global_Sales')).reset_index(drop = True).sort_values(by=['Global_Sales','Publisher'], ascending = False)"
   ]
  },
  {
   "cell_type": "code",
   "execution_count": 272,
   "id": "27e7b179",
   "metadata": {},
   "outputs": [
    {
     "data": {
      "text/html": [
       "<div>\n",
       "<style scoped>\n",
       "    .dataframe tbody tr th:only-of-type {\n",
       "        vertical-align: middle;\n",
       "    }\n",
       "\n",
       "    .dataframe tbody tr th {\n",
       "        vertical-align: top;\n",
       "    }\n",
       "\n",
       "    .dataframe thead th {\n",
       "        text-align: right;\n",
       "    }\n",
       "</style>\n",
       "<table border=\"1\" class=\"dataframe\">\n",
       "  <thead>\n",
       "    <tr style=\"text-align: right;\">\n",
       "      <th></th>\n",
       "      <th>Publisher</th>\n",
       "      <th>Platform</th>\n",
       "      <th>Global_Sales</th>\n",
       "    </tr>\n",
       "  </thead>\n",
       "  <tbody>\n",
       "    <tr>\n",
       "      <th>10</th>\n",
       "      <td>Nintendo</td>\n",
       "      <td>Wii</td>\n",
       "      <td>390.46</td>\n",
       "    </tr>\n",
       "    <tr>\n",
       "      <th>11</th>\n",
       "      <td>Nintendo</td>\n",
       "      <td>DS</td>\n",
       "      <td>349.75</td>\n",
       "    </tr>\n",
       "    <tr>\n",
       "      <th>5</th>\n",
       "      <td>Electronic Arts</td>\n",
       "      <td>PS2</td>\n",
       "      <td>255.79</td>\n",
       "    </tr>\n",
       "    <tr>\n",
       "      <th>12</th>\n",
       "      <td>Nintendo</td>\n",
       "      <td>GB</td>\n",
       "      <td>230.09</td>\n",
       "    </tr>\n",
       "    <tr>\n",
       "      <th>15</th>\n",
       "      <td>Sony Computer Entertainment</td>\n",
       "      <td>PS</td>\n",
       "      <td>193.73</td>\n",
       "    </tr>\n",
       "    <tr>\n",
       "      <th>13</th>\n",
       "      <td>Nintendo</td>\n",
       "      <td>NES</td>\n",
       "      <td>183.97</td>\n",
       "    </tr>\n",
       "    <tr>\n",
       "      <th>6</th>\n",
       "      <td>Electronic Arts</td>\n",
       "      <td>X360</td>\n",
       "      <td>181.04</td>\n",
       "    </tr>\n",
       "    <tr>\n",
       "      <th>16</th>\n",
       "      <td>Sony Computer Entertainment</td>\n",
       "      <td>PS2</td>\n",
       "      <td>172.80</td>\n",
       "    </tr>\n",
       "    <tr>\n",
       "      <th>7</th>\n",
       "      <td>Electronic Arts</td>\n",
       "      <td>PS3</td>\n",
       "      <td>168.71</td>\n",
       "    </tr>\n",
       "    <tr>\n",
       "      <th>0</th>\n",
       "      <td>Activision</td>\n",
       "      <td>X360</td>\n",
       "      <td>159.02</td>\n",
       "    </tr>\n",
       "    <tr>\n",
       "      <th>14</th>\n",
       "      <td>Nintendo</td>\n",
       "      <td>3DS</td>\n",
       "      <td>156.45</td>\n",
       "    </tr>\n",
       "    <tr>\n",
       "      <th>17</th>\n",
       "      <td>Sony Computer Entertainment</td>\n",
       "      <td>PS3</td>\n",
       "      <td>145.98</td>\n",
       "    </tr>\n",
       "    <tr>\n",
       "      <th>1</th>\n",
       "      <td>Activision</td>\n",
       "      <td>PS3</td>\n",
       "      <td>126.39</td>\n",
       "    </tr>\n",
       "    <tr>\n",
       "      <th>8</th>\n",
       "      <td>Electronic Arts</td>\n",
       "      <td>PS</td>\n",
       "      <td>90.46</td>\n",
       "    </tr>\n",
       "    <tr>\n",
       "      <th>2</th>\n",
       "      <td>Activision</td>\n",
       "      <td>PS2</td>\n",
       "      <td>85.59</td>\n",
       "    </tr>\n",
       "    <tr>\n",
       "      <th>9</th>\n",
       "      <td>Electronic Arts</td>\n",
       "      <td>PC</td>\n",
       "      <td>71.44</td>\n",
       "    </tr>\n",
       "    <tr>\n",
       "      <th>3</th>\n",
       "      <td>Activision</td>\n",
       "      <td>Wii</td>\n",
       "      <td>62.56</td>\n",
       "    </tr>\n",
       "    <tr>\n",
       "      <th>18</th>\n",
       "      <td>Sony Computer Entertainment</td>\n",
       "      <td>PSP</td>\n",
       "      <td>54.09</td>\n",
       "    </tr>\n",
       "    <tr>\n",
       "      <th>4</th>\n",
       "      <td>Activision</td>\n",
       "      <td>PC</td>\n",
       "      <td>47.58</td>\n",
       "    </tr>\n",
       "    <tr>\n",
       "      <th>19</th>\n",
       "      <td>Sony Computer Entertainment</td>\n",
       "      <td>PS4</td>\n",
       "      <td>30.71</td>\n",
       "    </tr>\n",
       "  </tbody>\n",
       "</table>\n",
       "</div>"
      ],
      "text/plain": [
       "                      Publisher Platform  Global_Sales\n",
       "10                     Nintendo      Wii        390.46\n",
       "11                     Nintendo       DS        349.75\n",
       "5               Electronic Arts      PS2        255.79\n",
       "12                     Nintendo       GB        230.09\n",
       "15  Sony Computer Entertainment       PS        193.73\n",
       "13                     Nintendo      NES        183.97\n",
       "6               Electronic Arts     X360        181.04\n",
       "16  Sony Computer Entertainment      PS2        172.80\n",
       "7               Electronic Arts      PS3        168.71\n",
       "0                    Activision     X360        159.02\n",
       "14                     Nintendo      3DS        156.45\n",
       "17  Sony Computer Entertainment      PS3        145.98\n",
       "1                    Activision      PS3        126.39\n",
       "8               Electronic Arts       PS         90.46\n",
       "2                    Activision      PS2         85.59\n",
       "9               Electronic Arts       PC         71.44\n",
       "3                    Activision      Wii         62.56\n",
       "18  Sony Computer Entertainment      PSP         54.09\n",
       "4                    Activision       PC         47.58\n",
       "19  Sony Computer Entertainment      PS4         30.71"
      ]
     },
     "execution_count": 272,
     "metadata": {},
     "output_type": "execute_result"
    }
   ],
   "source": [
    "df_PubPlat10"
   ]
  },
  {
   "cell_type": "code",
   "execution_count": 236,
   "id": "9512aad3",
   "metadata": {},
   "outputs": [
    {
     "data": {
      "text/plain": [
       "0         Wii\n",
       "1         NES\n",
       "2         Wii\n",
       "3         Wii\n",
       "4          GB\n",
       "         ... \n",
       "16269      DS\n",
       "16357    WiiU\n",
       "16456    WiiU\n",
       "16473     Wii\n",
       "16542     3DS\n",
       "Name: Platform, Length: 703, dtype: object"
      ]
     },
     "execution_count": 236,
     "metadata": {},
     "output_type": "execute_result"
    }
   ],
   "source": [
    "df.Platform[df['Publisher'] == 'Nintendo']"
   ]
  },
  {
   "cell_type": "code",
   "execution_count": 291,
   "id": "7dcd8dcd",
   "metadata": {},
   "outputs": [
    {
     "data": {
      "text/plain": [
       "<Figure size 3500x1500 with 0 Axes>"
      ]
     },
     "execution_count": 291,
     "metadata": {},
     "output_type": "execute_result"
    },
    {
     "data": {
      "image/png": "[encoded data removed]",
      "text/plain": [
       "<Figure size 640x480 with 1 Axes>"
      ]
     },
     "metadata": {},
     "output_type": "display_data"
    },
    {
     "data": {
      "text/plain": [
       "<Figure size 3500x1500 with 0 Axes>"
      ]
     },
     "metadata": {},
     "output_type": "display_data"
    }
   ],
   "source": [
    "sns.barplot(data= df_PubPlat10, x = 'Global_Sales', y = 'Publisher', hue = 'Platform',dodge= False, width= 0.5, palette='pastel')\n",
    "plt.xticks(rotation = 45)\n",
    "plt.xlim(0,500)\n",
    "plt.figure(figsize= (35,15))"
   ]
  },
  {
   "cell_type": "markdown",
   "id": "35cba491",
   "metadata": {},
   "source": [
    "# Nintendo shows that the Wii and DS, were the most valuble consoles for the company, due to the high selling games for those consoles.\n",
    "# Eletronic Arts was selling mostly to the PS2 users and X360, were both consoles were rivals at the market.\n",
    "# Sony Computer Entertainment was only selling for Sony's exclusive consoles, which explains a lower number of sales, but showing how strong the demand for the console is as it is one of the biggest publishers with copies of games sold.\n",
    "# Activision selled mostly to X360, PS3 and PC, probably releasing the same game to various consoles."
   ]
  },
  {
   "cell_type": "markdown",
   "id": "f7d43927",
   "metadata": {},
   "source": [
    "# 5 best-selling games for consoles"
   ]
  },
  {
   "cell_type": "code",
   "execution_count": 219,
   "id": "997881cc",
   "metadata": {},
   "outputs": [],
   "source": [
    "df_Consoles = df.groupby('Platform')[['Global_Sales']].agg({'Global_Sales':'sum'}).reset_index().sort_values(by ='Global_Sales',ascending = False).head(5)"
   ]
  },
  {
   "cell_type": "code",
   "execution_count": 220,
   "id": "47ea8621",
   "metadata": {},
   "outputs": [
    {
     "data": {
      "text/html": [
       "<div>\n",
       "<style scoped>\n",
       "    .dataframe tbody tr th:only-of-type {\n",
       "        vertical-align: middle;\n",
       "    }\n",
       "\n",
       "    .dataframe tbody tr th {\n",
       "        vertical-align: top;\n",
       "    }\n",
       "\n",
       "    .dataframe thead th {\n",
       "        text-align: right;\n",
       "    }\n",
       "</style>\n",
       "<table border=\"1\" class=\"dataframe\">\n",
       "  <thead>\n",
       "    <tr style=\"text-align: right;\">\n",
       "      <th></th>\n",
       "      <th>Platform</th>\n",
       "      <th>Global_Sales</th>\n",
       "    </tr>\n",
       "  </thead>\n",
       "  <tbody>\n",
       "    <tr>\n",
       "      <th>16</th>\n",
       "      <td>PS2</td>\n",
       "      <td>1255.64</td>\n",
       "    </tr>\n",
       "    <tr>\n",
       "      <th>28</th>\n",
       "      <td>X360</td>\n",
       "      <td>979.96</td>\n",
       "    </tr>\n",
       "    <tr>\n",
       "      <th>17</th>\n",
       "      <td>PS3</td>\n",
       "      <td>957.84</td>\n",
       "    </tr>\n",
       "    <tr>\n",
       "      <th>26</th>\n",
       "      <td>Wii</td>\n",
       "      <td>926.71</td>\n",
       "    </tr>\n",
       "    <tr>\n",
       "      <th>4</th>\n",
       "      <td>DS</td>\n",
       "      <td>822.49</td>\n",
       "    </tr>\n",
       "  </tbody>\n",
       "</table>\n",
       "</div>"
      ],
      "text/plain": [
       "   Platform  Global_Sales\n",
       "16      PS2       1255.64\n",
       "28     X360        979.96\n",
       "17      PS3        957.84\n",
       "26      Wii        926.71\n",
       "4        DS        822.49"
      ]
     },
     "execution_count": 220,
     "metadata": {},
     "output_type": "execute_result"
    }
   ],
   "source": [
    "df_Consoles"
   ]
  },
  {
   "cell_type": "code",
   "execution_count": 293,
   "id": "4a9ab90d",
   "metadata": {},
   "outputs": [
    {
     "data": {
      "text/plain": [
       "<Axes: xlabel='Platform', ylabel='Global_Sales'>"
      ]
     },
     "execution_count": 293,
     "metadata": {},
     "output_type": "execute_result"
    },
    {
     "data": {
      "image/png": "[encoded data removed]",
      "text/plain": [
       "<Figure size 640x480 with 1 Axes>"
      ]
     },
     "metadata": {},
     "output_type": "display_data"
    }
   ],
   "source": [
    "sns.barplot(data= df_Consoles, x = 'Platform', y= 'Global_Sales')"
   ]
  },
  {
   "cell_type": "markdown",
   "id": "69a4991b",
   "metadata": {},
   "source": [
    "# The PS2 console leads the tier of best-selling copies. This can be explained by the time of your launch, where he was the most popular console on that period, resulting in a large amount os launched games.\n",
    "# Following by X360, PS3 and Wii, where these three were direct competitors.\n",
    "# Nintendo DS was the most popular portable console."
   ]
  }
 ],
 "metadata": {
  "kernelspec": {
   "display_name": "Python 3 (ipykernel)",
   "language": "python",
   "name": "python3"
  },
  "language_info": {
   "codemirror_mode": {
    "name": "ipython",
    "version": 3
   },
   "file_extension": ".py",
   "mimetype": "text/x-python",
   "name": "python",
   "nbconvert_exporter": "python",
   "pygments_lexer": "ipython3",
   "version": "3.11.5"
  }
 },
 "nbformat": 4,
 "nbformat_minor": 5
}
